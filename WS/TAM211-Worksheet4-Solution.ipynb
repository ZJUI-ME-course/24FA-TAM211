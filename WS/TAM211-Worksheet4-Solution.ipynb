{
 "cells": [
  {
   "cell_type": "markdown",
   "id": "potential-uganda",
   "metadata": {},
   "source": [
    "# Worksheet 4"
   ]
  },
  {
   "cell_type": "markdown",
   "id": "surprising-trace",
   "metadata": {},
   "source": [
    "### Objective: Solve systems of equilibrium equations using Python"
   ]
  },
  {
   "cell_type": "code",
   "execution_count": 2,
   "id": "starting-thread",
   "metadata": {},
   "outputs": [],
   "source": [
    "import numpy as np"
   ]
  },
  {
   "cell_type": "markdown",
   "id": "lonely-dispatch",
   "metadata": {},
   "source": [
    "For this notebook, we will introduce `np.linalg.solve` for solving system of linear equations."
   ]
  },
  {
   "cell_type": "markdown",
   "id": "careful-feature",
   "metadata": {},
   "source": [
    "### Example"
   ]
  },
  {
   "cell_type": "markdown",
   "id": "divine-definition",
   "metadata": {},
   "source": [
    "Given the equations equilibrium $\\Sigma F_x = 0 = F_1 + 2F_2 -1$ and $\\Sigma F_y = 0 = 3F_1 + 5F_2 - 2$, we can rewrite it in the form of $Ax = b$ by defining a coefficient matrix, $A$, and resultant matrix $b$, then solve for the unknowns $x = [F_1, F_2]$ by:"
   ]
  },
  {
   "cell_type": "code",
   "execution_count": 3,
   "id": "automated-silence",
   "metadata": {},
   "outputs": [
    {
     "data": {
      "text/plain": [
       "array([-1.,  1.])"
      ]
     },
     "execution_count": 3,
     "metadata": {},
     "output_type": "execute_result"
    }
   ],
   "source": [
    "A = np.array([[1, 2], \\\n",
    "              [3, 5]])\n",
    "b = np.array([1, 2])\n",
    "x = np.linalg.solve(A, b)\n",
    "x"
   ]
  },
  {
   "cell_type": "markdown",
   "id": "pharmaceutical-tactics",
   "metadata": {},
   "source": [
    "### Problem 1 "
   ]
  },
  {
   "cell_type": "markdown",
   "id": "configured-glucose",
   "metadata": {},
   "source": [
    "Since the spring constant, `k`, and the change in the spring length, `s`, are given parameters in the problem statement, we define the spring force, `F_s`, as a known parameter:"
   ]
  },
  {
   "cell_type": "code",
   "execution_count": 4,
   "id": "daily-producer",
   "metadata": {},
   "outputs": [
    {
     "data": {
      "text/plain": [
       "240.0"
      ]
     },
     "execution_count": 4,
     "metadata": {},
     "output_type": "execute_result"
    }
   ],
   "source": [
    "k = 800 #N/m\n",
    "s = 500 - 200 #mm\n",
    "F_s = k*(s/1000) #N\n",
    "F_s"
   ]
  },
  {
   "cell_type": "markdown",
   "id": "about-collection",
   "metadata": {},
   "source": [
    "Rewrite your equations of equilibrium in the form of $Ax=b$, where $x$ is an array containing unknown force magnitudes, $x = [F_{BC}$, $F_{BD}]$, then use the `np.linalg.solve` function in numpy to solve for the unknowns forces matrix $x$."
   ]
  },
  {
   "cell_type": "code",
   "execution_count": 5,
   "id": "electric-google",
   "metadata": {},
   "outputs": [],
   "source": [
    "#Define coefficient matrix A and resultant matrix b, then use np.linalg.solve to find matrix x\n",
    "A = np.array([[np.cos(np.pi/4), 4/5], \\\n",
    "              [np.sin(np.pi/4), -3/5]])\n",
    "b = np.array([F_s, 0])\n",
    "x = np.linalg.solve(A,b)"
   ]
  },
  {
   "cell_type": "markdown",
   "id": "afraid-literature",
   "metadata": {},
   "source": [
    "Find $F_{BC}$."
   ]
  },
  {
   "cell_type": "code",
   "execution_count": 6,
   "id": "rising-simon",
   "metadata": {},
   "outputs": [
    {
     "data": {
      "text/plain": [
       "145.4619664155183"
      ]
     },
     "execution_count": 6,
     "metadata": {},
     "output_type": "execute_result"
    }
   ],
   "source": [
    "F_BC = x[0]\n",
    "F_BC"
   ]
  },
  {
   "cell_type": "markdown",
   "id": "pressed-strap",
   "metadata": {},
   "source": [
    "Find $F_{BD}$."
   ]
  },
  {
   "cell_type": "code",
   "execution_count": 7,
   "id": "careful-uruguay",
   "metadata": {},
   "outputs": [
    {
     "data": {
      "text/plain": [
       "171.42857142857144"
      ]
     },
     "execution_count": 7,
     "metadata": {},
     "output_type": "execute_result"
    }
   ],
   "source": [
    "F_BD = x[1]\n",
    "F_BD"
   ]
  },
  {
   "cell_type": "markdown",
   "id": "amended-steel",
   "metadata": {},
   "source": [
    "### Problem 2 "
   ]
  },
  {
   "cell_type": "markdown",
   "id": "vital-thomson",
   "metadata": {},
   "source": [
    "Define the given forces on the hot air balloon, lift and weight, as variables `L` and `W`, respectively."
   ]
  },
  {
   "cell_type": "code",
   "execution_count": 8,
   "id": "significant-dodge",
   "metadata": {},
   "outputs": [],
   "source": [
    "L = 50 #N\n",
    "W = 2*9.81 #N"
   ]
  },
  {
   "cell_type": "markdown",
   "id": "eight-advantage",
   "metadata": {},
   "source": [
    "Define the unit vectors that provide the directions for force vectors $F_{AB}$, $F_{AC}$, and $F_{AD}$."
   ]
  },
  {
   "cell_type": "code",
   "execution_count": 9,
   "id": "preceding-lotus",
   "metadata": {},
   "outputs": [],
   "source": [
    "a = np.array([0,0,6])\n",
    "b = np.array([-1.5,-2,0])\n",
    "c = np.array([2,-3,0])\n",
    "d = np.array([0,2.5,0])\n",
    "ab = b-a\n",
    "ac = c-a\n",
    "ad = d-a\n",
    "u_ab = ab/np.linalg.norm(ab)\n",
    "u_ac = ac/np.linalg.norm(ac)\n",
    "u_ad = ad/np.linalg.norm(ad)"
   ]
  },
  {
   "cell_type": "markdown",
   "id": "governing-pickup",
   "metadata": {},
   "source": [
    "Rewrite your equations of equilibrium in the form of $Ax=b$, where $x$ is an array containing unknown force magnitudes, $x = [F_{AB}$, $F_{AC}$, $F_{AD}]$."
   ]
  },
  {
   "cell_type": "code",
   "execution_count": 10,
   "id": "architectural-season",
   "metadata": {},
   "outputs": [],
   "source": [
    "#Define coefficient matrix A and resultant matrix b, then use np.linalg.solve to find matrix x\n",
    "A = np.array([[u_ab[0], u_ac[0], u_ad[0]], \\\n",
    "              [u_ab[1], u_ac[1], u_ad[1]], \\\n",
    "              [u_ab[2], u_ac[2], u_ad[2]]])\n",
    "b = np.array([0, 0, W-L])\n",
    "x = np.linalg.solve(A,b)"
   ]
  },
  {
   "cell_type": "markdown",
   "id": "opened-mortgage",
   "metadata": {},
   "source": [
    "Find $F_{AD}$."
   ]
  },
  {
   "cell_type": "code",
   "execution_count": 11,
   "id": "executed-denver",
   "metadata": {},
   "outputs": [
    {
     "data": {
      "text/plain": [
       "16.21734299516908"
      ]
     },
     "execution_count": 11,
     "metadata": {},
     "output_type": "execute_result"
    }
   ],
   "source": [
    "F_AD = x[2]\n",
    "F_AD"
   ]
  },
  {
   "cell_type": "markdown",
   "id": "gross-volunteer",
   "metadata": {},
   "source": [
    "### Problem 3 "
   ]
  },
  {
   "cell_type": "markdown",
   "id": "affected-worse",
   "metadata": {},
   "source": [
    "Define the given weight of the bucket and its content as variable `W`."
   ]
  },
  {
   "cell_type": "code",
   "execution_count": 12,
   "id": "threaded-collection",
   "metadata": {},
   "outputs": [],
   "source": [
    "W = 12 #lb"
   ]
  },
  {
   "cell_type": "markdown",
   "id": "brilliant-competition",
   "metadata": {},
   "source": [
    "Define the unit vectors that provides the directions for force vectors $\\mathbf{F}_{BA}$, $\\mathbf{F}_{BC}$, $\\mathbf{F}_{BE}$, $\\mathbf{F}_{EB}$, and $\\mathbf{F}_{ED}$. Note: $\\mathbf{F}_{BE} = -\\mathbf{F}_{EB}$."
   ]
  },
  {
   "cell_type": "code",
   "execution_count": 13,
   "id": "necessary-classic",
   "metadata": {},
   "outputs": [],
   "source": [
    "u_ba = np.array([-1,0])\n",
    "u_bc = np.array([np.cos(30/180*np.pi),np.sin(30/180*np.pi)])\n",
    "u_be = np.array([3/5,-4/5])\n",
    "u_eb = -u_be\n",
    "u_ed = np.array([np.cos(30/180*np.pi),np.sin(30/180*np.pi)])"
   ]
  },
  {
   "cell_type": "markdown",
   "id": "recognized-career",
   "metadata": {},
   "source": [
    "Rewrite your equations of equilibrium in the form of $Ax=b$, where $x$ is an array containing unknown force magnitudes, $x = [F_{BA}, F_{BC}, F_{BE}, F_{ED}]$. Note: Since we know $\\mathbf{F}_{BE} = -\\mathbf{F}_{EB}$, they just have opposite directions so $F_{BE}$ = $F_{EB}$. Therefore, we do not need to consider $F_{EB}$ as a separate independent unknown variable from $F_{BE}$."
   ]
  },
  {
   "cell_type": "code",
   "execution_count": 14,
   "id": "meaning-mainland",
   "metadata": {},
   "outputs": [],
   "source": [
    "#Define coefficient matrix A and resultant matrix b, then use np.linalg.solve to find matrix x\n",
    "A = np.array([[u_ba[0], u_bc[0], u_be[0], 0], [u_ba[1], u_bc[1], u_be[1], 0], [0, 0, u_eb[0], u_ed[0]], [0, 0, u_eb[1], u_ed[1]]])\n",
    "b = np.array([0, 0, 0, W])\n",
    "x = np.linalg.solve(A,b)"
   ]
  },
  {
   "cell_type": "markdown",
   "id": "consolidated-craps",
   "metadata": {},
   "source": [
    "Find the magnitude of $F_{AB}$."
   ]
  },
  {
   "cell_type": "code",
   "execution_count": 16,
   "id": "scheduled-universe",
   "metadata": {},
   "outputs": [
    {
     "data": {
      "text/plain": [
       "20.78460969082653"
      ]
     },
     "execution_count": 16,
     "metadata": {},
     "output_type": "execute_result"
    }
   ],
   "source": [
    "F_BA = x[0]\n",
    "F_BA\n",
    "12*3**0.5\n",
    "F_BA"
   ]
  },
  {
   "cell_type": "markdown",
   "id": "pretty-zambia",
   "metadata": {},
   "source": [
    "### Problem 4 "
   ]
  },
  {
   "cell_type": "markdown",
   "id": "reliable-compilation",
   "metadata": {},
   "source": [
    "Define the given weights of the connectors as variable `W`."
   ]
  },
  {
   "cell_type": "code",
   "execution_count": 15,
   "id": "applicable-blend",
   "metadata": {},
   "outputs": [],
   "source": [
    "W = 1*9.81 #N"
   ]
  },
  {
   "cell_type": "markdown",
   "id": "sealed-guatemala",
   "metadata": {},
   "source": [
    "Define the unit vectors that provide the directions for force vectors that act on connectors $B$ and $E$."
   ]
  },
  {
   "cell_type": "code",
   "execution_count": 10,
   "id": "soviet-bachelor",
   "metadata": {},
   "outputs": [],
   "source": [
    "A = np.array([3.4,1,0])\n",
    "B = np.array([2,1,0])\n",
    "C = np.array([2.2,0,1])\n",
    "D = np.array([2.2,0,-1])\n",
    "E = np.array([1,1.2,0])\n",
    "F = np.array([0,1.4,1.2])\n",
    "G = np.array([0,1.5,-1.1])\n",
    "BA = (A-B)/np.linalg.norm(A-B)\n",
    "BC = (C-B)/np.linalg.norm(C-B)\n",
    "BD = (D-B)/np.linalg.norm(D-B)\n",
    "BE = (E-B)/np.linalg.norm(E-B)\n",
    "EB = -BE\n",
    "EF = (F-E)/np.linalg.norm(F-E)\n",
    "EG = (G-E)/np.linalg.norm(G-E)"
   ]
  },
  {
   "cell_type": "markdown",
   "id": "asian-professional",
   "metadata": {},
   "source": [
    "Rewrite your equations of equilibrium in the form of $Ax=b$, where $x$ is an array containing unknown tensions in each cable."
   ]
  },
  {
   "cell_type": "code",
   "execution_count": 17,
   "id": "blessed-medication",
   "metadata": {},
   "outputs": [],
   "source": [
    "#Define coefficient matrix A and resultant matrix b, then use np.linalg.solve to find matrix x\n",
    "A = np.array([[BA[0], BC[0], BD[0], BE[0], 0, 0], \\\n",
    "              [BA[1], BC[1], BD[1], BE[1], 0, 0], \\\n",
    "              [BA[2], BC[2], BD[2], BE[2], 0, 0], \\\n",
    "              [0, 0, 0, EB[0], EF[0], EG[0]], \\\n",
    "              [0, 0, 0, EB[1], EF[1], EG[1]], \\\n",
    "              [0, 0, 0, EB[2], EF[2], EG[2]]])\n",
    "b = np.array([0, W, 0, 0, W, 0])\n",
    "x = np.linalg.solve(A,b)"
   ]
  },
  {
   "cell_type": "markdown",
   "id": "charged-future",
   "metadata": {},
   "source": [
    "Use the numpy.linalg.solve function in numpy to solve for the unknowns forces (Fbc and Fbd)."
   ]
  },
  {
   "cell_type": "markdown",
   "id": "adjustable-density",
   "metadata": {},
   "source": [
    "Find $F_{EG}$."
   ]
  },
  {
   "cell_type": "code",
   "execution_count": 18,
   "id": "superb-newfoundland",
   "metadata": {},
   "outputs": [
    {
     "data": {
      "text/plain": [
       "148.7760162122913"
      ]
     },
     "execution_count": 18,
     "metadata": {},
     "output_type": "execute_result"
    }
   ],
   "source": [
    "F_EG = x[5]\n",
    "F_EG"
   ]
  }
 ],
 "metadata": {
  "kernelspec": {
   "display_name": "Python 3 (ipykernel)",
   "language": "python",
   "name": "python3"
  },
  "language_info": {
   "codemirror_mode": {
    "name": "ipython",
    "version": 3
   },
   "file_extension": ".py",
   "mimetype": "text/x-python",
   "name": "python",
   "nbconvert_exporter": "python",
   "pygments_lexer": "ipython3",
   "version": "3.11.7"
  }
 },
 "nbformat": 4,
 "nbformat_minor": 5
}

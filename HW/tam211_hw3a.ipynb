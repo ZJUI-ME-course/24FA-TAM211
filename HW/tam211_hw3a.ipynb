{
 "cells": [
  {
   "cell_type": "code",
   "execution_count": 7,
   "metadata": {},
   "outputs": [
    {
     "name": "stdout",
     "output_type": "stream",
     "text": [
      "[ 317 -449  590]\n",
      "[3284 2765    0]\n"
     ]
    }
   ],
   "source": [
    "# 4\n",
    "import numpy as np\n",
    "a=5\n",
    "b=1\n",
    "c=1\n",
    "d=2\n",
    "F1=317\n",
    "F2=449\n",
    "F3=590\n",
    "f1=F1*np.array([-1,0,0])\n",
    "f2=F2*np.array([0,1,0])\n",
    "f3=F3*np.array([0,0,-1])\n",
    "r1=np.array([0,0,a])\n",
    "r2=np.array([0,c,a+b])\n",
    "r3=np.array([-d,c,a+b])\n",
    "print(-f1-f2-f3)\n",
    "print(-np.cross(r1,f1)+-np.cross(r2,f2)+-np.cross(r3,f3))"
   ]
  },
  {
   "cell_type": "code",
   "execution_count": 4,
   "metadata": {},
   "outputs": [
    {
     "name": "stdout",
     "output_type": "stream",
     "text": [
      "1540 441.0\n",
      "1170.909090909091\n",
      "810.0909090909091\n"
     ]
    }
   ],
   "source": [
    "# 6\n",
    "import sympy as s\n",
    "wa=140\n",
    "wb=434\n",
    "x1=8\n",
    "x2=3\n",
    "\n",
    "\n",
    "f1=wa*(x1+x2)\n",
    "f2=((wb-wa)/2*x2)\n",
    "print(f1,f2)\n",
    "\n",
    "x=s.S('x')\n",
    "\n",
    "# x*f1=(x1/2+x2/3*2-x)*f2\n",
    "\n",
    "f=f1+f2\n",
    "\n",
    "r=(f1*(x1+x2)/2+(x1+x2/3*2)*f2)/f\n",
    "\n",
    "\n",
    "print(f*r/(x1+x2))\n",
    "print(f*(x2+x1-r)/(x1+x2))\n"
   ]
  },
  {
   "cell_type": "code",
   "execution_count": 3,
   "metadata": {},
   "outputs": [
    {
     "name": "stdout",
     "output_type": "stream",
     "text": [
      "{x: 469.818645270660, y: 443.674899270243, z: 703.762145053627}\n"
     ]
    }
   ],
   "source": [
    "# 8\n",
    "\n",
    "import sympy as s\n",
    "from numpy import sqrt,radians,sin,cos\n",
    "\n",
    "x=s.S('x')\n",
    "y=s.S('y')\n",
    "z=s.S('z')\n",
    "\n",
    "F=277\n",
    "alpha=28\n",
    "\n",
    "# 1y\n",
    "q1=-F*cos(radians(alpha+30))+x*sqrt(3)/2+y-z\n",
    "# 1x\n",
    "q2=-F*sin(radians(alpha+30))+x*cos(radians(60))\n",
    "# b\n",
    "\n",
    "q3=-z*0.15/2-0.2*x+F*cos(radians(alpha))*0.6\n",
    "\n",
    "print(s.solve([q1,q2,q3],[x,y,z]))\n",
    "\n"
   ]
  },
  {
   "cell_type": "code",
   "execution_count": 2,
   "metadata": {},
   "outputs": [
    {
     "name": "stdout",
     "output_type": "stream",
     "text": [
      "{x: 674.174495216186, y: 7.82623792124901}\n",
      "{x: 674.174495216186, y: 7.82623792124901}\n",
      "-5.68434188608080e-13\n",
      "[1 6 0] [0 -301.500000000000 603.000000000000]\n",
      "[0 3.49999999999989 6.99999999999977]\n",
      "[3660.00000000000 -609.999999999999 -298.000000000000]\n"
     ]
    }
   ],
   "source": [
    "# 9\n",
    "a=610\n",
    "b=298\n",
    "l1=1\n",
    "l2=6\n",
    "l3=2\n",
    "l4=4\n",
    "\n",
    "import numpy as np\n",
    "import sympy as s\n",
    "from numpy import sqrt\n",
    "x=s.S('x')\n",
    "y=s.S('y')\n",
    "\n",
    "q1=x/sqrt(l3**2+l4**2)*l4*l2+y*l4/sqrt(l4**2+l3**2)*l2-a*l2\n",
    "q2=x/sqrt(l3**2+l4**2)*l3-y*l3/sqrt(l4**2+l3**2)-b\n",
    "\n",
    "print(s.solve([q1,q2],[x,y]))\n",
    "m=s.solve([q1,q2],[x,y])\n",
    "\n",
    "\n",
    "\n",
    "\n",
    "\n",
    "\n",
    "print(m)\n",
    "x=m[x]\n",
    "y=m[y]\n",
    "print(x*(l4)/sqrt(l4**2+l3**2)+y*(l4)/sqrt(l4**2+l3**2)-a)\n",
    "\n",
    "\n",
    "r1=np.array([l1,l2,0])\n",
    "f1=np.array([0,x*(-l3)/sqrt(l4**2+l3**2),x*(l4)/sqrt(l4**2+l3**2)])\n",
    "print(r1,f1)\n",
    "f2=np.array([0,y*(l3)/sqrt(l4**2+l3**2),y*(l4)/sqrt(l4**2+l3**2)])\n",
    "print(f2)\n",
    "print(np.cross(r1,f1)+np.cross(r1,f2))"
   ]
  },
  {
   "cell_type": "code",
   "execution_count": 1,
   "metadata": {},
   "outputs": [
    {
     "name": "stdout",
     "output_type": "stream",
     "text": [
      "[-1  0  0]\n",
      "0\n",
      "[[ 30  24  18]\n",
      " [ 84  69  54]\n",
      " [138 114  90]]\n",
      "[ 17. -25.  12.]\n",
      "向量的模是: 5.0\n",
      "6.000000000000016\n"
     ]
    }
   ],
   "source": [
    "# 一些矩阵运算\n",
    "import numpy as np\n",
    "\n",
    "a=np.array([0,0,1])\n",
    "b=np.array([0,1,0])\n",
    "\n",
    "print(np.cross(a,b))\n",
    "print(np.dot(a,b))\n",
    "####################################### ####################################### #######################################\n",
    "\n",
    "matrix1 = np.array([[1, 2, 3],\n",
    "                   [4, 5, 6],\n",
    "                   [7, 8, 9]])\n",
    "\n",
    "matrix2 = np.array([[9, 8, 7],\n",
    "                   [6, 5, 4],\n",
    "                   [3, 2, 1]])\n",
    "\n",
    "\n",
    "result = np.dot(matrix1, matrix2)\n",
    "print(result)\n",
    "\n",
    "\n",
    "####################################### ####################################### #######################################\n",
    "import numpy as np\n",
    "A = np.array([[1, 2, 3],\n",
    "              [4, 5, 6],\n",
    "              [7, 8, 10]])\n",
    "b = np.array([3, 15, 39]).T\n",
    "\n",
    "x = np.linalg.solve(A, b)\n",
    "print(x)\n",
    "\n",
    "####################################### ####################################### #######################################\n",
    "\n",
    "\n",
    "\n",
    "vector = np.array([3, 4])\n",
    "\n",
    "vector_magnitude = np.linalg.norm(vector)\n",
    "print(\"向量的模是:\", vector_magnitude)\n",
    "\n",
    "import numpy as np\n",
    "####################################### ####################################### #######################################\n",
    "\n",
    "\n",
    "b = np.array([[-1, 2, 3],\n",
    "              [4, 5, 6],\n",
    "              [7, 8, 9]])\n",
    "det_b = np.linalg.det(b)\n",
    "\n",
    "print(det_b)"
   ]
  }
 ],
 "metadata": {
  "kernelspec": {
   "display_name": "Python 3",
   "language": "python",
   "name": "python3"
  },
  "language_info": {
   "codemirror_mode": {
    "name": "ipython",
    "version": 3
   },
   "file_extension": ".py",
   "mimetype": "text/x-python",
   "name": "python",
   "nbconvert_exporter": "python",
   "pygments_lexer": "ipython3",
   "version": "3.12.6"
  }
 },
 "nbformat": 4,
 "nbformat_minor": 2
}

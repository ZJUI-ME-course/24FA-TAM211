{
 "cells": [
  {
   "cell_type": "code",
   "execution_count": null,
   "metadata": {},
   "outputs": [
    {
     "name": "stdout",
     "output_type": "stream",
     "text": [
      "[98  0 16]\n",
      "[  32   69 -147]\n"
     ]
    }
   ],
   "source": [
    "# 1这道题最后也没有完全理解\n",
    "\n",
    "import numpy as np\n",
    "\n",
    "f1=np.array([-23,0,-16])\n",
    "f2=np.array([-75,0,0])\n",
    "\n",
    "# 第一个错，这个fc应该和另外两个和为0，但是我的问题是，两外两个和A点和为0，然后a点和c点和为0，不应该整体相等吗\n",
    "fc=f1+f2\n",
    "print(-fc)\n",
    "# 这里我其实不知道是不是c指向右边的，但是不用左边的原因是需要加一个左边的大小\n",
    "\n",
    "r1=np.array([0,2,3])\n",
    "r2=np.array([0,2,0])\n",
    "m=np.array([0,0,-49])\n",
    "# 这里就是纯正的相加为0，虽然我不知道为什么\n",
    "print(-(np.cross(r1,f1)+np.cross(r2,f2)+m)) #这里正负其实我不是很会判断\n",
    "\n",
    "\n",
    "\n",
    "\n",
    "\n"
   ]
  },
  {
   "cell_type": "code",
   "execution_count": null,
   "metadata": {},
   "outputs": [
    {
     "name": "stdout",
     "output_type": "stream",
     "text": [
      "3.0 - 0.75*x\n"
     ]
    },
    {
     "ename": "",
     "evalue": "",
     "output_type": "error",
     "traceback": [
      "\u001b[1;31m在当前单元格或上一个单元格中执行代码时 Kernel 崩溃。\n",
      "\u001b[1;31m请查看单元格中的代码，以确定故障的可能原因。\n",
      "\u001b[1;31m单击<a href='https://aka.ms/vscodeJupyterKernelCrash'>此处</a>了解详细信息。\n",
      "\u001b[1;31m有关更多详细信息，请查看 Jupyter <a href='command:jupyter.viewOutput'>log</a>。"
     ]
    }
   ],
   "source": [
    "# \n",
    "import sympy as s\n",
    "import matplotlib.pyplot as plt\n",
    "import numpy as np\n",
    "x=s.S('x')\n",
    "\n",
    "w=0.75\n",
    "a=4\n",
    "\n",
    "# 只需要用现在用的点的v，m都等于0就行了\n",
    "\n",
    "\n",
    "\n",
    "# 注意默认v向下，m逆时针就行\n",
    "# 然后第三个点代表两个斜率交点\n",
    "\n",
    "\n",
    "\n",
    "# 纠正1 上面一定是一半正一半负，就是只能取一个点，作为x的相距点，换了就错了\n",
    "# 纠正2 上面的朝向算清楚，就是函数分析一下，\n",
    "# 纠正3 就是第三个点其实就是顶点的斜率交点，有必要。必须算一下，否则不按对\n",
    "\n"
   ]
  },
  {
   "cell_type": "code",
   "execution_count": null,
   "metadata": {},
   "outputs": [],
   "source": []
  },
  {
   "cell_type": "code",
   "execution_count": 89,
   "metadata": {},
   "outputs": [
    {
     "name": "stdout",
     "output_type": "stream",
     "text": [
      "-44.44444444444444 1.3333333333333333\n"
     ]
    }
   ],
   "source": [
    "# 5\n",
    "f=25\n",
    "l1=8e-2\n",
    "l2=1.5e-2\n",
    "l3=3e-2\n",
    "# 这里求扭矩还是需要单位转换的\n",
    "from numpy import sin,cos,radians\n",
    "alpha=44\n",
    "\n",
    "fb=f*l1/(l2+l3)\n",
    "\n",
    "# 不知道怎么看正负号\n",
    "print(-fb,fb*(l3))"
   ]
  },
  {
   "cell_type": "code",
   "execution_count": null,
   "metadata": {},
   "outputs": [
    {
     "name": "stdout",
     "output_type": "stream",
     "text": [
      "(2*a + 1)**2/2\n",
      "-(0.333333333333333*a + 0.666666666666667)*(2*a + 1)**2/2 - (a + 0.5)**2/2 + (2*a + 1)**2/2\n",
      "[(-0.500000000000000,), (0.250000000000000,)]\n"
     ]
    }
   ],
   "source": [
    "# 6\n",
    "import sympy as s\n",
    "\n",
    "\n",
    "a = s.Symbol('a')\n",
    "x = s.Symbol('x')\n",
    "\n",
    "fun1 = x\n",
    "fun2 = x**2\n",
    "\n",
    "\n",
    "\n",
    "f2 = s.integrate(fun1, (x, 0, 2*a + 1))\n",
    "\n",
    "\n",
    "fb = f2 * (1/3 * a + 2/3)\n",
    "fa = f2 - fb\n",
    "\n",
    "\n",
    "\n",
    "f1 = s.integrate(fun1, (x, 0, a + 1/2))\n",
    "r1 = 1/3 * (a + 1/2)\n",
    "\n",
    "\n",
    "\n",
    "q1 = fa  - f1 \n",
    "print(q1)\n",
    "\n",
    "\n",
    "\n",
    "solution = s.solve([q1], [a])\n",
    "print(solution)\n"
   ]
  },
  {
   "cell_type": "code",
   "execution_count": 5,
   "metadata": {},
   "outputs": [
    {
     "name": "stdout",
     "output_type": "stream",
     "text": [
      "7.230769230769231\n"
     ]
    }
   ],
   "source": [
    "print(47/13*2)"
   ]
  },
  {
   "cell_type": "code",
   "execution_count": 4,
   "metadata": {},
   "outputs": [
    {
     "name": "stdout",
     "output_type": "stream",
     "text": [
      "24.423076923076678\n",
      "-645.1769230769232\n",
      "-3897.3230769230804\n"
     ]
    }
   ],
   "source": [
    "# 8\n",
    "\n",
    "w1=63\n",
    "w2=45\n",
    "w3=-(w1-w2)/15*12+w1\n",
    "p=655\n",
    "\n",
    "\n",
    "f=(w1+w3)*12/2\n",
    "import sympy as s\n",
    "from scipy.integrate import quad \n",
    "x=s.S('x')\n",
    "w=66-2*x\n",
    "\n",
    "\n",
    "def fun1(x):\n",
    "    return -(w1-w2)/15*x+w1\n",
    "def fun2(x):\n",
    "    return (-(w1-w2)/15*x+w1)*x \n",
    "f1,_= quad(fun1, 0, 15)\n",
    "m1, _ = quad(fun2, 0, 15)\n",
    "\n",
    "# A M \n",
    "fb=(p*25*(12/13)+m1)/15\n",
    "fa=f1+p*(12/13)-fb\n",
    "print(fa)\n",
    "# c f\n",
    "f3,_=quad(fun1, 0, 12)\n",
    "vc= fa-f3\n",
    "print(vc)\n",
    "\n",
    "\n",
    "def fun3(x):\n",
    "    return ((w1-w3)/12*x+w3)*x \n",
    "\n",
    "\n",
    "# 失误1这里写成15，w2\n",
    "m2,_=quad(fun3,0,12)\n",
    "ma=fa*12\n",
    "print(-m2+ma)\n",
    "# 失误2 这里方向反了，目前来看顺时针是正\n",
    "# print(mc)\n",
    "# 总结思路 \n",
    "# 1 A M->fb \n",
    "# 2 F->fa \n",
    "# 3 F->vc \n",
    "# 4 C M ->mc\n"
   ]
  },
  {
   "cell_type": "code",
   "execution_count": 52,
   "metadata": {},
   "outputs": [
    {
     "name": "stdout",
     "output_type": "stream",
     "text": [
      "5.66666666666667/(1 - a) 9 - 5.66666666666667/(1 - a)\n",
      "{a: 0.370370370370370}\n"
     ]
    }
   ],
   "source": [
    "# 9\n",
    "# 1 A M\n",
    "\n",
    "f1=4\n",
    "f2=5\n",
    "l=1\n",
    "\n",
    "import sympy as s\n",
    "a=s.S('a')\n",
    "\n",
    "fa=(f1*l+f2*l/3)/(l-a)\n",
    "fc=f1+f2-fa\n",
    "# a=0.5\n",
    "# fa=(f1*l+f2*l/3)/(l-a)\n",
    "# fc=f1+f2-fa\n",
    "\n",
    "print(fa,fc)\n",
    "\n",
    "\n",
    "# mb=fc=0\n",
    "# mb=\n",
    "print(s.solve([fc],[a]))"
   ]
  },
  {
   "cell_type": "code",
   "execution_count": null,
   "metadata": {},
   "outputs": [
    {
     "name": "stdout",
     "output_type": "stream",
     "text": [
      "[-318  177  273]\n",
      "[ 428 -273  937]\n"
     ]
    }
   ],
   "source": [
    "# 10\n",
    "import numpy as np\n",
    "f1=np.array([190,-177,-107])\n",
    "f2=np.array([128,0,-166])\n",
    "a=4\n",
    "\n",
    "\n",
    "r1=(1,a,0)\n",
    "r2=(1,0,0)\n",
    "fb=-f1-f2\n",
    "# 方向：看a点相加为0\n",
    "print(fb)\n",
    "# 方向：M相加为0\n",
    "mb=-np.cross(r1,f1)-np.cross(r2,f2)\n",
    "print(mb)\n",
    "\n",
    "\n"
   ]
  }
 ],
 "metadata": {
  "kernelspec": {
   "display_name": "Python 3",
   "language": "python",
   "name": "python3"
  },
  "language_info": {
   "codemirror_mode": {
    "name": "ipython",
    "version": 3
   },
   "file_extension": ".py",
   "mimetype": "text/x-python",
   "name": "python",
   "nbconvert_exporter": "python",
   "pygments_lexer": "ipython3",
   "version": "3.12.6"
  }
 },
 "nbformat": 4,
 "nbformat_minor": 2
}

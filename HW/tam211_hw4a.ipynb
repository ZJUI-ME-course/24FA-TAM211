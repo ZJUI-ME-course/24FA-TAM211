{
 "cells": [
  {
   "cell_type": "code",
   "execution_count": 3,
   "metadata": {},
   "outputs": [
    {
     "name": "stdout",
     "output_type": "stream",
     "text": [
      "Fab: -228.0 Fbc: 0 Fbd: -304\n"
     ]
    }
   ],
   "source": [
    "# 1\n",
    "F=304\n",
    "a=4\n",
    "b=3\n",
    "c=3\n",
    "\n",
    "Fab=-F*b/a\n",
    "Fbd=-F\n",
    "\n",
    "print(\"Fab:\",Fab,\"Fbc:\",0,\"Fbd:\",Fbd)\n"
   ]
  },
  {
   "cell_type": "code",
   "execution_count": null,
   "metadata": {},
   "outputs": [],
   "source": [
    "# 2搞笑，看两个三个的这种"
   ]
  },
  {
   "cell_type": "code",
   "execution_count": 2,
   "metadata": {},
   "outputs": [
    {
     "name": "stdout",
     "output_type": "stream",
     "text": [
      "-316.0\n",
      "-505.84681475719503\n"
     ]
    }
   ],
   "source": [
    "from math import sqrt\n",
    "# 4\n",
    "# F=316\n",
    "# a=2\n",
    "# b=2\n",
    "# c=4\n",
    "# sinB=(a+b)/sqrt((a+b)**2+c**2)\n",
    "\n",
    "# Fbc=F*(a+b)/(c*sinB)\n",
    "\n",
    "\n",
    "# Fad=Fbc/sinB\n",
    "\n",
    "# print(Fad)\n",
    "\n",
    "F=395\n",
    "\n",
    "a=2\n",
    "b=2\n",
    "c=5\n",
    "Fad=-F/c*(a+b)\n",
    "print(Fad)\n",
    "fcd=-F/c*sqrt(c**2+(a+b)**2)\n",
    "print(fcd)"
   ]
  },
  {
   "cell_type": "code",
   "execution_count": null,
   "metadata": {},
   "outputs": [],
   "source": [
    "F1=768\n",
    "F2=1064\n",
    "a=5\n",
    "\n",
    "import sympy as s\n",
    "Fcd=s.S('Fcd')\n",
    "Fcb=s.S('Fcb')\n",
    "Fbd=s.S('Fbd')\n",
    "P=s.S('P')\n",
    "\n",
    "# c y\n",
    "q1=Fcd*1/sqrt(17)+P/2-Fcb/sqrt(2)\n",
    "# c x\n",
    "q2=-Fcd*4/sqrt(17)+Fcb/sqrt(2)\n",
    "\n",
    "# b\n",
    "\n"
   ]
  },
  {
   "cell_type": "code",
   "execution_count": 4,
   "metadata": {},
   "outputs": [
    {
     "name": "stdout",
     "output_type": "stream",
     "text": [
      "105.66666666666667\n"
     ]
    }
   ],
   "source": [
    "# 5\n",
    "f1=46\n",
    "f2=29\n",
    "a=5\n",
    "b=3\n",
    "print(f1*a/b+f2)"
   ]
  }
 ],
 "metadata": {
  "kernelspec": {
   "display_name": "Python 3",
   "language": "python",
   "name": "python3"
  },
  "language_info": {
   "codemirror_mode": {
    "name": "ipython",
    "version": 3
   },
   "file_extension": ".py",
   "mimetype": "text/x-python",
   "name": "python",
   "nbconvert_exporter": "python",
   "pygments_lexer": "ipython3",
   "version": "3.12.6"
  }
 },
 "nbformat": 4,
 "nbformat_minor": 2
}

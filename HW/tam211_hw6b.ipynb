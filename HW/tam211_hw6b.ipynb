{
 "cells": [
  {
   "cell_type": "code",
   "execution_count": null,
   "metadata": {},
   "outputs": [
    {
     "name": "stdout",
     "output_type": "stream",
     "text": [
      "1236060.00000000\n",
      "1236060.00000000\n",
      "1.33333333333333\n",
      "1880250.00000000\n",
      "1648080.00000000\n",
      "-644190.000000000\n"
     ]
    }
   ],
   "source": [
    "# 1\n",
    "# 注意，这个题只考虑了AB没有考虑上面的挡板，所以其实就是直接相等就行\n",
    "p=1000\n",
    "g=9.81\n",
    "l=6\n",
    "from sympy import sqrt,pi,S\n",
    "from sympy import integrate as i \n",
    "z=S('z')\n",
    "x=S('x')\n",
    "# f1=i(8*p*g*z,(z,0,5))\n",
    "# print(f1)\n",
    "f2=i(l*p*g*z,(z,5,9)) #右\n",
    "\n",
    "f3=i(l*p*g*(5+4/3*x),(x,0,3)) # 下\n",
    "print(f3)\n",
    "f3=i(l*p*g*z*3/4,(z,5,9)) # 下\n",
    "print(f3)\n",
    "\n",
    "fbx=f2\n",
    "m3=i(l*p*g*(5+4/3*x)*(3-x),(x,0,3))\n",
    "\n",
    "\n",
    "\n",
    "m2=i(l*p*g*z*(9-z),(z,5,9))\n",
    "fby=1/3*(m3+m2-fbx*4)\n",
    "\n",
    "# print(f3)\n",
    "fay=f3-fby\n",
    "print(fay)\n",
    "print(fbx)\n",
    "print(fby)\n",
    "\n",
    "# 出错原因1 没理解只有下面需要平衡\n",
    "# 出错原因二 计算m而不是计算f*自以为的质心 \n",
    "# 出错原因三 计算m的时候要牢记以哪个点为中心，其实就是以那个点为心，写式子就行，dx表达式\n",
    "\n",
    "# 验证答案 横着竖着大小比值纵向长度/横向长度\n",
    "\n"
   ]
  },
  {
   "cell_type": "code",
   "execution_count": 4,
   "metadata": {},
   "outputs": [
    {
     "name": "stdout",
     "output_type": "stream",
     "text": [
      "1849.1598092106588\n"
     ]
    }
   ],
   "source": [
    "# 2\n",
    "a=2\n",
    "gamma=57\n",
    "from sympy import sqrt,pi,S\n",
    "from sympy import integrate as i \n",
    "z=S('z')\n",
    "x=S('x')\n",
    "\n",
    "fy=i(2*x**2*gamma,(x,0,a))\n",
    "fx=i(gamma*z,(z,0,2*a**2))\n",
    "\n",
    "f=sqrt(fx**2+fy**2)\n",
    "print(float(f))\n",
    "\n"
   ]
  },
  {
   "cell_type": "code",
   "execution_count": 25,
   "metadata": {},
   "outputs": [
    {
     "name": "stdout",
     "output_type": "stream",
     "text": [
      "130800.000000000\n",
      "1046400.00000000\n"
     ]
    }
   ],
   "source": [
    "# 3\n",
    "rou=1000\n",
    "g=9.81\n",
    "D=8\n",
    "d=2\n",
    "w=5\n",
    "\n",
    "\n",
    "f=i(w*rou*g*z,(z,D-d-d,D))\n",
    "mf=i(w*rou*g*z*(z-D+d),(z,D-d-d,D))\n",
    "fb=mf/d \n",
    "print(fb)\n",
    "fa=f-fb\n",
    "print(fa)"
   ]
  },
  {
   "cell_type": "code",
   "execution_count": 34,
   "metadata": {},
   "outputs": [
    {
     "name": "stdout",
     "output_type": "stream",
     "text": [
      "85837.5*(d/3 + 0.666666666666667)*(d - 1) + 85837.5\n",
      "[(-3.41987021599052,), (3.08653688265719,)]\n"
     ]
    }
   ],
   "source": [
    "# 4\n",
    "#假定所有水平面的力都作用在A点\n",
    "import sympy as s \n",
    "rou1=1000\n",
    "rou2=2500\n",
    "g=9.81\n",
    "H=7\n",
    "d=S('d')\n",
    "# 先看正负\n",
    "m1=i(-rou1*g*z*(H-z),(z,0,H))\n",
    "m2=i((H-H/(d-1)*x)*(d-x)*rou1*g,(x,0,d-1))\n",
    "# print(m2)\n",
    "m3=((d/3+2/3)*(d-1)*H/2+1/2*H)*rou2*g\n",
    "# print(m3)\n",
    "\n",
    "print(m3)\n",
    "q1=m1+m2+m3\n",
    "print(s.solve([q1],[d]))\n"
   ]
  },
  {
   "cell_type": "code",
   "execution_count": 18,
   "metadata": {},
   "outputs": [
    {
     "name": "stdout",
     "output_type": "stream",
     "text": [
      "441.079608564007\n",
      "280.800000000000\n"
     ]
    }
   ],
   "source": [
    "# 5\n",
    "gamma=62.4\n",
    "r=3\n",
    "x=S('x')\n",
    "fy=i(gamma*sqrt(r**2-x**2),(x,0,r))\n",
    "print(float(fy))\n",
    "fx=i(gamma*z,(z,0,r))\n",
    "print(fx)"
   ]
  },
  {
   "cell_type": "code",
   "execution_count": null,
   "metadata": {},
   "outputs": [
    {
     "name": "stdout",
     "output_type": "stream",
     "text": [
      "6.75000000000000\n",
      "2.00000000000000 1.00000000000000\n"
     ]
    }
   ],
   "source": [
    "# 6\n",
    "a=3\n",
    "b=3\n",
    "c=1\n",
    "\n",
    "from sympy import S\n",
    "from sympy import integrate as i \n",
    "x=S('x')\n",
    "y=S('y')\n",
    "\n",
    "F=i(c/a*x*(b-y),(x,0,a),(y,0,b))\n",
    "print(F)\n",
    "mx=i(c/a*x*x*(b-y),(x,0,a),(y,0,b))\n",
    "my=i(c/a*x*y*(b-y),(x,0,a),(y,0,b))\n",
    "x=mx/F\n",
    "y=my/F\n",
    "\n",
    "print(x,y)"
   ]
  },
  {
   "cell_type": "code",
   "execution_count": 12,
   "metadata": {},
   "outputs": [
    {
     "name": "stdout",
     "output_type": "stream",
     "text": [
      "163.395360000000 1.66666666666667\n"
     ]
    }
   ],
   "source": [
    "# 7\n",
    "\n",
    "a=2\n",
    "b=4\n",
    "c=1\n",
    "rou=1041\n",
    "\n",
    "g=9.81\n",
    "z=S('z')\n",
    "f=i(rou*g*z*c,(z,a,a+b))\n",
    "mz=i(rou*g*z*z*c,(z,a,a+b))\n",
    "h=a+b-mz/f\n",
    "print(f/1000,h)\n",
    "\n"
   ]
  },
  {
   "cell_type": "code",
   "execution_count": 15,
   "metadata": {},
   "outputs": [
    {
     "name": "stdout",
     "output_type": "stream",
     "text": [
      "12480.0000000000\n"
     ]
    }
   ],
   "source": [
    "# 8\n",
    "w=4\n",
    "gamma=62.4\n",
    "h1=8\n",
    "h2=4\n",
    "d=3\n",
    "\n",
    "x=S('x')\n",
    "z=S('z')\n",
    "fz=i(w*gamma*(h1+h2/d*x),(x,0,d))\n",
    "# mz=i(w*gamma*(h1+h2/d*x)**2,(x,0,d))\n",
    "fx=i(w*gamma*z,(z,h1,h1+h2))\n",
    "f=sqrt(fx**2+fz**2)\n",
    "print(f)\n"
   ]
  },
  {
   "cell_type": "markdown",
   "metadata": {},
   "source": [
    "## 6B"
   ]
  },
  {
   "cell_type": "code",
   "execution_count": null,
   "metadata": {},
   "outputs": [],
   "source": [
    "# 1\n"
   ]
  },
  {
   "cell_type": "code",
   "execution_count": null,
   "metadata": {},
   "outputs": [],
   "source": [
    "# 3\n"
   ]
  },
  {
   "cell_type": "code",
   "execution_count": null,
   "metadata": {},
   "outputs": [
    {
     "name": "stdout",
     "output_type": "stream",
     "text": [
      "2500*d + 5000*(d - 1)**3/(3*d - 3) - 2500 -62500/3\n",
      "[(-2.45795451414458,), (2.12462118081125,)]\n"
     ]
    }
   ],
   "source": [
    "# 4\n",
    "\n",
    "\n",
    "\n",
    "from sympy import S\n",
    "from sympy import integrate as i \n",
    "import sympy as s\n",
    "\n",
    "x=S('x')\n",
    "z=S('z')\n",
    "d=S('d')\n",
    "\n",
    "H=5\n",
    "rouc=2500\n",
    "rouw=1000\n",
    "g=9.81\n",
    "\n",
    "m1=i(rouw*(x+1)*H/(d-1)*x,(x,0,d-1))\n",
    "m2=-i((H-z)*z*rouw,(z,0,H))\n",
    "m3=(d-1)*H/2*rouc*(1/3*d+2/3)\n",
    "m4=(1/2*H*1*rouc)\n",
    "q1=m1+m2+m3+m4\n",
    "print(s.solve([q1],[d]))\n",
    "\n"
   ]
  },
  {
   "cell_type": "code",
   "execution_count": 14,
   "metadata": {},
   "outputs": [
    {
     "name": "stdout",
     "output_type": "stream",
     "text": [
      "196.0353815840031 124.800000000000\n"
     ]
    }
   ],
   "source": [
    "#5\n",
    "# 计算左边的\n",
    "\n",
    "\n",
    "from sympy import S\n",
    "from sympy import integrate as i \n",
    "import sympy as s\n",
    "\n",
    "x=S('x')\n",
    "z=S('z')\n",
    "\n",
    "tao=62.4\n",
    "r=2\n",
    "\n",
    "fv=i(tao*sqrt(r**2-x**2),(x,0,r))\n",
    "fh=i(tao*z,(z,0,r))\n",
    "\n",
    "print(float(fv),fh)"
   ]
  },
  {
   "cell_type": "code",
   "execution_count": null,
   "metadata": {},
   "outputs": [
    {
     "name": "stdout",
     "output_type": "stream",
     "text": [
      "50.0000000000000\n",
      "2.66666666666667 1.66666666666667\n"
     ]
    }
   ],
   "source": [
    "# 6\n",
    "from sympy import S\n",
    "from sympy import integrate as i \n",
    "import sympy as s\n",
    "\n",
    "x=S('x')\n",
    "y=S('y')\n",
    "\n",
    "\n",
    "a=4\n",
    "b=5\n",
    "c=2\n",
    "f=c/a*(x*(b-y))\n",
    "\n",
    "\n",
    "\n",
    "fr=i(f,(x,0,a),(y,0,b))\n",
    "print(fr)\n",
    "\n",
    "\n",
    "# 不要用xy 用mx,my\n",
    "mx=i(f*x,(x,0,a),(y,0,b))/fr \n",
    "my=i(f*y,(x,0,a),(y,0,b))/fr \n",
    "print(mx,my)\n"
   ]
  },
  {
   "cell_type": "code",
   "execution_count": 20,
   "metadata": {},
   "outputs": [
    {
     "name": "stdout",
     "output_type": "stream",
     "text": [
      "905855.400000000\n",
      "2.50000000000000\n"
     ]
    }
   ],
   "source": [
    "# 7\n",
    "c=3\n",
    "rou=855\n",
    "g=9.81\n",
    "tao=c*rou*g\n",
    "\n",
    "\n",
    "a=3\n",
    "b=6\n",
    "c=3\n",
    "\n",
    "from sympy import S\n",
    "from sympy import integrate as i \n",
    "import sympy as s\n",
    "\n",
    "x=S('x')\n",
    "z=S('z')\n",
    "\n",
    "\n",
    "# 单位\n",
    "_f=i(z*tao,(z,a,a+b))\n",
    "f=_f/1000\n",
    "print(f)\n",
    "\n",
    "\n",
    "\n",
    "z=i(z**2*tao,(z,a,a+b))/i(z*tao,(z,a,a+b))\n",
    "h=a+b-z\n",
    "print(h)\n"
   ]
  },
  {
   "cell_type": "code",
   "execution_count": 17,
   "metadata": {},
   "outputs": [
    {
     "name": "stdout",
     "output_type": "stream",
     "text": [
      "2924.82319465639\n"
     ]
    }
   ],
   "source": [
    "# 8\n",
    "# w\n",
    "\n",
    "tao=62.4*2\n",
    "\n",
    "h1=5\n",
    "h2=3\n",
    "d=2\n",
    "\n",
    "from sympy import S\n",
    "from sympy import integrate as i \n",
    "import sympy as s\n",
    "\n",
    "x=S('x')\n",
    "z=S('z')\n",
    "\n",
    "# 这里d敲成3错了一次\n",
    "fy=i(tao*(h1+h2/d*x),(x,0,d))\n",
    "fx=i(tao*z,(z,h1,h1+h2))\n",
    "f=sqrt(fx**2+fy**2)\n",
    "\n",
    "print(f)\n",
    "\n"
   ]
  }
 ],
 "metadata": {
  "kernelspec": {
   "display_name": "Python 3",
   "language": "python",
   "name": "python3"
  },
  "language_info": {
   "codemirror_mode": {
    "name": "ipython",
    "version": 3
   },
   "file_extension": ".py",
   "mimetype": "text/x-python",
   "name": "python",
   "nbconvert_exporter": "python",
   "pygments_lexer": "ipython3",
   "version": "3.12.6"
  }
 },
 "nbformat": 4,
 "nbformat_minor": 2
}

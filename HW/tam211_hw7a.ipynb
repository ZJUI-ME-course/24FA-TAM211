{
 "cells": [
  {
   "cell_type": "code",
   "execution_count": 1,
   "metadata": {},
   "outputs": [
    {
     "name": "stdout",
     "output_type": "stream",
     "text": [
      "972.0\n"
     ]
    }
   ],
   "source": [
    "# 6\n",
    "from sympy import S,sqrt\n",
    "from sympy import integrate as i \n",
    "import sympy as s\n",
    "\n",
    "x=S('x')\n",
    "y=S('y')\n",
    "\n",
    "b=10\n",
    "h=9\n",
    "ix=i(y**2*(b-y**2*b/h**2),(y,0,h))\n",
    "print(float(ix))"
   ]
  },
  {
   "cell_type": "code",
   "execution_count": 78,
   "metadata": {},
   "outputs": [
    {
     "name": "stdout",
     "output_type": "stream",
     "text": [
      "3.875\n",
      "26.291666666666664\n"
     ]
    }
   ],
   "source": [
    "# 2\n",
    "H=4\n",
    "h=2\n",
    "w=3\n",
    "m1=3\n",
    "m2=5\n",
    "\n",
    "from sympy import S,sqrt\n",
    "from sympy import integrate as i \n",
    "import sympy as s\n",
    "\n",
    "x=S('x')\n",
    "y=S('y')\n",
    "\n",
    "y0=(m1*H/2+m2*(H+1/2*h))/(m1+m2)\n",
    "print(y0)\n",
    "\n",
    "\n",
    "# i(y**2*y/H*m1,(y,0,H))+i(y**2*y/h*m2,(y,H,H+h))\n",
    "i=1/12*m1*H**2+m1*(y0-1/2*H)**2+m2*(H-y0+1/2*h)**2+1/12*m2*(h**2+w**2)\n",
    "print(i)\n"
   ]
  },
  {
   "cell_type": "code",
   "execution_count": 4,
   "metadata": {},
   "outputs": [
    {
     "name": "stdout",
     "output_type": "stream",
     "text": [
      "0.333333333333333\n"
     ]
    }
   ],
   "source": [
    "# 3\n",
    "from sympy import S,sqrt\n",
    "from sympy import integrate as i \n",
    "import sympy as s\n",
    "\n",
    "x=S('x')\n",
    "y=S('y')\n",
    "\n",
    "h=1\n",
    "b=10\n",
    "i=i(y**2*(b-(y*b**3/h)**(1/3)),(y,0,h))\n",
    "print(i)"
   ]
  },
  {
   "cell_type": "code",
   "execution_count": 11,
   "metadata": {},
   "outputs": [
    {
     "data": {
      "text/plain": [
       "533.25"
      ]
     },
     "execution_count": 11,
     "metadata": {},
     "output_type": "execute_result"
    }
   ],
   "source": [
    "# 4\n",
    "a=3\n",
    "b=6\n",
    "from sympy import S,sqrt\n",
    "from sympy import integrate as i \n",
    "import sympy as s\n",
    "x=S('x')\n",
    "\n",
    "\n",
    "\n",
    "x=S('x')\n",
    "o=i((a+x)*x**2,(x,0,a))+i((a+b-x)*x**2,(x,a,a+b))\n",
    "float(o)"
   ]
  },
  {
   "cell_type": "code",
   "execution_count": 41,
   "metadata": {},
   "outputs": [
    {
     "name": "stdout",
     "output_type": "stream",
     "text": [
      "286.7940001559373\n"
     ]
    }
   ],
   "source": [
    "# 5\n",
    "tt=21\n",
    "a=0.9\n",
    "m=185\n",
    "\n",
    "\n",
    "f=m/2/a/sin(radians(tt))\n",
    "print(f)"
   ]
  },
  {
   "cell_type": "code",
   "execution_count": 38,
   "metadata": {},
   "outputs": [
    {
     "name": "stdout",
     "output_type": "stream",
     "text": [
      "4.860779767078089\n"
     ]
    }
   ],
   "source": [
    "# 6\n",
    "# 注意：这个题是题目单位错了，不是自己的问题\n",
    "from math import cos,sin,radians,degrees,tan\n",
    "\n",
    "tt=48\n",
    "k=2\n",
    "G=20\n",
    "F=2*2\n",
    "T=k*(20*cos(radians(tt))-6)\n",
    "# print(T) #lb\n",
    "\n",
    "m1=-G*10*cos(radians(tt))\n",
    "m2=-F*5*cos(radians(tt))\n",
    "\n",
    "_p=(m1+m2)/20/sin(radians(tt))+T\n",
    "p=_p #N\n",
    "print(p)\n",
    "\n",
    "# 5.441     38\n",
    "# 5.502     39\n",
    "# 3.979     31\n",
    "        \n",
    "# 5.284     45\n",
    "\n",
    "\n",
    "\n"
   ]
  },
  {
   "cell_type": "code",
   "execution_count": 17,
   "metadata": {},
   "outputs": [
    {
     "name": "stdout",
     "output_type": "stream",
     "text": [
      "326.45137232869155\n"
     ]
    }
   ],
   "source": [
    "# 7\n",
    "from math import cos,sin,radians,degrees,tan\n",
    "\n",
    "p=106\n",
    "tt=33\n",
    "print(2*p/tan(radians(tt)))\n"
   ]
  },
  {
   "cell_type": "code",
   "execution_count": 62,
   "metadata": {},
   "outputs": [
    {
     "name": "stdout",
     "output_type": "stream",
     "text": [
      "1.8333333333333333\n",
      "18.6111111111111\n",
      "1.43872170781893\n",
      "29.5494470164609\n",
      "49.5992798353910\n"
     ]
    }
   ],
   "source": [
    "# 8\n",
    "a=2\n",
    "b=2\n",
    "c=1\n",
    "d=4\n",
    "\n",
    "s1=2*b*d*1/2\n",
    "y1=d/3+c\n",
    "s2=a*d \n",
    "y2=d/2+c\n",
    "s3=c*(4*b+a)\n",
    "y3=1/2*c\n",
    "y0=(s1*y1+s2*y2+s3*y3)/(s1+s2+s3)\n",
    "\n",
    "print(y0)\n",
    "\n",
    "\n",
    "from sympy import S,sqrt\n",
    "from sympy import integrate as i \n",
    "import sympy as s\n",
    "\n",
    "x=S('x')\n",
    "y=S('y')\n",
    "\n",
    "i0=i(y**2*(4*b+a),(y,y0-c,y0))+i(y**2*(b*2+a+2*(y0-c)/d*b+2*b/d*y),(y,0,y0-c))+i(y**2*(b*2+a-2*(y0-c)/d*b-2*b/d*y),(y,0,c+d-y0))\n",
    "\n",
    "print(i(y**2*(4*b+a),(y,y0-c,y0)))\n",
    "print(i(y**2*(b*2+a+2*(y0-c)/d*b+2*b/d*y),(y,0,y0-c)))\n",
    "print(i(y**2*(b*2+a-2*(y0-c)/d*b-2*b/d*y),(y,0,c+d-y0)))\n",
    "print(i0)\n"
   ]
  },
  {
   "cell_type": "code",
   "execution_count": 11,
   "metadata": {},
   "outputs": [
    {
     "name": "stdout",
     "output_type": "stream",
     "text": [
      "(-0.329445892927274,)\n",
      "0.455309971137242\n",
      "554.453108315191\n"
     ]
    }
   ],
   "source": [
    "# 9\n",
    "M=50\n",
    "tt=51\n",
    "from sympy import S \n",
    "from sympy import solve as o \n",
    "from math import cos,sin,radians,degrees\n",
    "x=S('x')\n",
    "q1=x**2+(0.1)**2-(0.4)**2-2*x*0.1*cos(radians(tt))\n",
    "print(o([q1],[x])[0])\n",
    "xb=o([q1],[x])[1][0]\n",
    "print(xb)\n",
    "f=M/0.2*(2*xb-0.2*cos(radians(tt)))/xb/sin(radians(tt))\n",
    "print(f)\n",
    "\n",
    "\n",
    "\n",
    "# 失误1 cos少乘一项"
   ]
  },
  {
   "cell_type": "code",
   "execution_count": 1,
   "metadata": {},
   "outputs": [
    {
     "ename": "NotImplementedError",
     "evalue": "multiple generators [x, sin(x)]\nNo algorithms are implemented to solve equation -15*x/2 + 10*sin(x)",
     "output_type": "error",
     "traceback": [
      "\u001b[1;31m---------------------------------------------------------------------------\u001b[0m",
      "\u001b[1;31mNotImplementedError\u001b[0m                       Traceback (most recent call last)",
      "Cell \u001b[1;32mIn[1], line 9\u001b[0m\n\u001b[0;32m      7\u001b[0m z\u001b[38;5;241m=\u001b[39mS(\u001b[38;5;124m'\u001b[39m\u001b[38;5;124mz\u001b[39m\u001b[38;5;124m'\u001b[39m)\n\u001b[0;32m      8\u001b[0m q1\u001b[38;5;241m=\u001b[39m\u001b[38;5;241m10\u001b[39m\u001b[38;5;241m*\u001b[39msin(x)\u001b[38;5;241m-\u001b[39m\u001b[38;5;241m7.5\u001b[39m\u001b[38;5;241m*\u001b[39mx\n\u001b[1;32m----> 9\u001b[0m \u001b[38;5;28mprint\u001b[39m(\u001b[43mo\u001b[49m\u001b[43m(\u001b[49m\u001b[43mq1\u001b[49m\u001b[43m,\u001b[49m\u001b[43mx\u001b[49m\u001b[43m)\u001b[49m)\n",
      "File \u001b[1;32mc:\\Users\\13613\\AppData\\Local\\Programs\\Python\\Python312\\Lib\\site-packages\\sympy\\solvers\\solvers.py:1170\u001b[0m, in \u001b[0;36msolve\u001b[1;34m(f, *symbols, **flags)\u001b[0m\n\u001b[0;32m   1168\u001b[0m         solution \u001b[38;5;241m=\u001b[39m _solve_undetermined(f[\u001b[38;5;241m0\u001b[39m], symbols, flags)\n\u001b[0;32m   1169\u001b[0m     \u001b[38;5;28;01mif\u001b[39;00m \u001b[38;5;129;01mnot\u001b[39;00m solution:\n\u001b[1;32m-> 1170\u001b[0m         solution \u001b[38;5;241m=\u001b[39m \u001b[43m_solve\u001b[49m\u001b[43m(\u001b[49m\u001b[43mf\u001b[49m\u001b[43m[\u001b[49m\u001b[38;5;241;43m0\u001b[39;49m\u001b[43m]\u001b[49m\u001b[43m,\u001b[49m\u001b[43m \u001b[49m\u001b[38;5;241;43m*\u001b[39;49m\u001b[43msymbols\u001b[49m\u001b[43m,\u001b[49m\u001b[43m \u001b[49m\u001b[38;5;241;43m*\u001b[39;49m\u001b[38;5;241;43m*\u001b[39;49m\u001b[43mflags\u001b[49m\u001b[43m)\u001b[49m\n\u001b[0;32m   1171\u001b[0m \u001b[38;5;28;01melse\u001b[39;00m:\n\u001b[0;32m   1172\u001b[0m     linear, solution \u001b[38;5;241m=\u001b[39m _solve_system(f, symbols, \u001b[38;5;241m*\u001b[39m\u001b[38;5;241m*\u001b[39mflags)\n",
      "File \u001b[1;32mc:\\Users\\13613\\AppData\\Local\\Programs\\Python\\Python312\\Lib\\site-packages\\sympy\\solvers\\solvers.py:1729\u001b[0m, in \u001b[0;36m_solve\u001b[1;34m(f, *symbols, **flags)\u001b[0m\n\u001b[0;32m   1726\u001b[0m \u001b[38;5;66;03m# ----------- end of fallback ----------------------------\u001b[39;00m\n\u001b[0;32m   1728\u001b[0m \u001b[38;5;28;01mif\u001b[39;00m result \u001b[38;5;129;01mis\u001b[39;00m \u001b[38;5;28;01mFalse\u001b[39;00m:\n\u001b[1;32m-> 1729\u001b[0m     \u001b[38;5;28;01mraise\u001b[39;00m \u001b[38;5;167;01mNotImplementedError\u001b[39;00m(\u001b[38;5;124m'\u001b[39m\u001b[38;5;130;01m\\n\u001b[39;00m\u001b[38;5;124m'\u001b[39m\u001b[38;5;241m.\u001b[39mjoin([msg, not_impl_msg \u001b[38;5;241m%\u001b[39m f]))\n\u001b[0;32m   1731\u001b[0m result \u001b[38;5;241m=\u001b[39m _remove_duplicate_solutions(result)\n\u001b[0;32m   1733\u001b[0m \u001b[38;5;28;01mif\u001b[39;00m flags\u001b[38;5;241m.\u001b[39mget(\u001b[38;5;124m'\u001b[39m\u001b[38;5;124msimplify\u001b[39m\u001b[38;5;124m'\u001b[39m, \u001b[38;5;28;01mTrue\u001b[39;00m):\n",
      "\u001b[1;31mNotImplementedError\u001b[0m: multiple generators [x, sin(x)]\nNo algorithms are implemented to solve equation -15*x/2 + 10*sin(x)"
     ]
    }
   ],
   "source": [
    "from math import sqrt,cos,sin,tan,acos,asin,atan,pi\n",
    "from sympy import integrate as i\n",
    "from sympy import S,sqrt,cos,sin\n",
    "from sympy import solve as o\n",
    "x=S('x')\n",
    "y=S('y')\n",
    "z=S('z')\n",
    "q1=10*sin(x)-7.5*x\n",
    "print(o(q1,x))"
   ]
  }
 ],
 "metadata": {
  "kernelspec": {
   "display_name": "Python 3",
   "language": "python",
   "name": "python3"
  },
  "language_info": {
   "codemirror_mode": {
    "name": "ipython",
    "version": 3
   },
   "file_extension": ".py",
   "mimetype": "text/x-python",
   "name": "python",
   "nbconvert_exporter": "python",
   "pygments_lexer": "ipython3",
   "version": "3.12.6"
  }
 },
 "nbformat": 4,
 "nbformat_minor": 2
}

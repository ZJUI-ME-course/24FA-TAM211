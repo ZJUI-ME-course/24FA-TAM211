{
 "cells": [
  {
   "cell_type": "code",
   "execution_count": null,
   "metadata": {},
   "outputs": [
    {
     "name": "stdout",
     "output_type": "stream",
     "text": [
      "2/5\n",
      "4/7\n"
     ]
    }
   ],
   "source": [
    "# 1\n",
    "import sympy as s \n",
    "from numpy import sqrt\n",
    "x=s.S('x')\n",
    "ym=s.integrate((1+x**3)*(1-x**3)/2,(x,0,1))/s.integrate((1-x**3),(x,0,1))\n",
    "xm=s.integrate(x*(1-x**3),(x,0,1))/s.integrate((1-x**3),(x,0,1))\n",
    "\n",
    "print(xm)\n",
    "print(ym)"
   ]
  },
  {
   "cell_type": "code",
   "execution_count": 1,
   "metadata": {},
   "outputs": [
    {
     "name": "stdout",
     "output_type": "stream",
     "text": [
      "4/(3*pi)\n",
      "1.16653080535372 - 0.385764695608993/pi\n",
      "4.1749523560027875\n"
     ]
    }
   ],
   "source": [
    "# 2\n",
    "from math import pi,sqrt\n",
    "from sympy import symbols, integrate, sqrt\n",
    "from sympy import integrate as i\n",
    "import sympy as s\n",
    "x=s.S('x')\n",
    "\n",
    "xm=i((1-x**2)/2, (x, 0, 1))/i(sqrt(1-x**2), (x, 0, 1))\n",
    "# m=i((1-x**2)/2, (x, 0, 1))\n",
    "# print(m)\n",
    "# print(x)\n",
    "\n",
    "print(xm)\n",
    "s1=(2*1)**2\n",
    "s2=pi*1**2/4\n",
    "s3=1**2/2\n",
    "xm2=(1*s1-xm*s2-5/3*s3)/(s1-s2-s3)\n",
    "print(xm2)\n",
    "\n",
    "import math\n",
    "\n",
    "# 计算表达式的值\n",
    "result = (1.16653080535372 - 0.385764695608993/math.pi)*4\n",
    "\n",
    "# 打印结果\n",
    "print(result)"
   ]
  },
  {
   "cell_type": "code",
   "execution_count": 66,
   "metadata": {},
   "outputs": [
    {
     "name": "stdout",
     "output_type": "stream",
     "text": [
      "35.97421042627193\n"
     ]
    }
   ],
   "source": [
    "# 3\n",
    "r=87\n",
    "print(3*math.sqrt(3)/4/math.pi*r)"
   ]
  },
  {
   "cell_type": "code",
   "execution_count": null,
   "metadata": {},
   "outputs": [
    {
     "name": "stdout",
     "output_type": "stream",
     "text": [
      "3.00000000000000 0.400000000000000\n"
     ]
    }
   ],
   "source": [
    "# 4\n",
    "from math import pi,sqrt\n",
    "from sympy import integrate as i\n",
    "from sympy import S\n",
    "x=S('x')\n",
    "h=1\n",
    "n=2\n",
    "a=8\n",
    "\n",
    "xm=i(x*(h-h/a**n*x**n),(x,0,8))/i((h-h/a**n*x**n),(x,0,8))\n",
    "ym=i(1/2*(h-h/a**n*x**n)**2,(x,0,8))/i((h-h/a**n*x**n),(x,0,8))\n",
    "print(xm,ym)"
   ]
  },
  {
   "cell_type": "code",
   "execution_count": 76,
   "metadata": {},
   "outputs": [
    {
     "name": "stdout",
     "output_type": "stream",
     "text": [
      "1848 2327 1628\n",
      "96.89841461313114\n"
     ]
    }
   ],
   "source": [
    "# 5\n",
    "t1=11\n",
    "t2=13\n",
    "b1=168\n",
    "b2=148\n",
    "h=179\n",
    "\n",
    "s1=b1*t1\n",
    "s2=h*t2\n",
    "s3=t1*b2\n",
    "print(s1,s2,s3)\n",
    "ym=((t1+h/2)*s2+t1/2*s1+s3*(t1+h+t1/2))/(s1+s2+s3)\n",
    "print(ym)"
   ]
  },
  {
   "cell_type": "code",
   "execution_count": 78,
   "metadata": {},
   "outputs": [
    {
     "name": "stdout",
     "output_type": "stream",
     "text": [
      "4.72500000000000\n"
     ]
    }
   ],
   "source": [
    "# 6\n",
    "a=7\n",
    "z=S('z')\n",
    "zm=i(z*(a**2-z**2)*pi,(z,1/2*a,a))/i((a**2-z**2)*pi,(z,1/2*a,a))\n",
    "print(zm)"
   ]
  },
  {
   "cell_type": "code",
   "execution_count": null,
   "metadata": {},
   "outputs": [
    {
     "name": "stdout",
     "output_type": "stream",
     "text": [
      "71.86818880286305\n"
     ]
    }
   ],
   "source": [
    "a=20\n",
    "b=41\n",
    "\n",
    "\n",
    "s1=pi*b**2/4\n",
    "y1=1/2*b \n",
    "s2=110*15\n",
    "y2=110/2+b\n",
    "s3=pi*a**2/4\n",
    "y3=110+1/2*a+b\n",
    "print((s1*y1+s2*y2+s3*y3)/(s1+s2+s3))"
   ]
  }
 ],
 "metadata": {
  "kernelspec": {
   "display_name": "Python 3",
   "language": "python",
   "name": "python3"
  },
  "language_info": {
   "codemirror_mode": {
    "name": "ipython",
    "version": 3
   },
   "file_extension": ".py",
   "mimetype": "text/x-python",
   "name": "python",
   "nbconvert_exporter": "python",
   "pygments_lexer": "ipython3",
   "version": "3.12.6"
  }
 },
 "nbformat": 4,
 "nbformat_minor": 2
}

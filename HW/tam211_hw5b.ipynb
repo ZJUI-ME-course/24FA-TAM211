{
 "cells": [
  {
   "cell_type": "code",
   "execution_count": null,
   "metadata": {},
   "outputs": [
    {
     "name": "stdout",
     "output_type": "stream",
     "text": [
      "46.0\n",
      "1.0434782608695652\n"
     ]
    }
   ],
   "source": [
    "# 1\n",
    "w1=68\n",
    "w2=115\n",
    "f=w2*0.4\n",
    "print(f)\n",
    "print((f*10-w1*5)/w2)\n",
    "\n",
    "\n"
   ]
  },
  {
   "cell_type": "code",
   "execution_count": 16,
   "metadata": {},
   "outputs": [
    {
     "data": {
      "text/plain": [
       "602.5"
      ]
     },
     "execution_count": 16,
     "metadata": {},
     "output_type": "execute_result"
    }
   ],
   "source": [
    "# 5\n",
    "\n",
    "(644+104+457)*0.5"
   ]
  },
  {
   "cell_type": "code",
   "execution_count": 1,
   "metadata": {},
   "outputs": [
    {
     "name": "stdout",
     "output_type": "stream",
     "text": [
      "21.017849556983702\n"
     ]
    }
   ],
   "source": [
    "from numpy import sqrt\n",
    "a=sqrt(28**2-18.5**2)\n",
    "print(a)"
   ]
  },
  {
   "cell_type": "code",
   "execution_count": null,
   "metadata": {},
   "outputs": [
    {
     "name": "stdout",
     "output_type": "stream",
     "text": [
      "[(0.530719735222341, 31.7273073155955), (1.88423368047743, -24.3198999081881)]\n"
     ]
    }
   ],
   "source": [
    "# 6\n",
    "from numpy import cos,sin,radians,acos,asin,pi,sqrt,degrees\n",
    "\n",
    "a=9\n",
    "b=6\n",
    "c=6\n",
    "g=100\n",
    "\n",
    "\n",
    "sin1=c/a\n",
    "cos1=sqrt(a**2-c**2)/a\n",
    "import sympy as s\n",
    "f1=g*cos1*(a+b)/2/a\n",
    "miu=s.S('miu')\n",
    "n=s.S('n')\n",
    "\n",
    "# 上面的那个指向右，不知道为什么\n",
    "q1=f1*cos1+miu*f1*sin1+n-g\n",
    "q2=-f1*sin1+miu*f1*cos1+miu*n\n",
    "\n",
    "print(s.solve([q1,q2],[miu,n]))\n",
    "\n",
    "\n",
    "\n",
    "\n",
    "\n"
   ]
  },
  {
   "cell_type": "code",
   "execution_count": null,
   "metadata": {},
   "outputs": [
    {
     "name": "stdout",
     "output_type": "stream",
     "text": [
      "33.39848846798724\n"
     ]
    }
   ],
   "source": [
    "# 7\n",
    "from numpy import cos,sin,radians,acos,asin,pi,sqrt,degrees,atan\n",
    "miu=0.3\n",
    "\n",
    "\n",
    "print(2*degrees(atan(0.3)))\n",
    "\n"
   ]
  },
  {
   "cell_type": "code",
   "execution_count": 8,
   "metadata": {},
   "outputs": [
    {
     "name": "stdout",
     "output_type": "stream",
     "text": [
      "{n: 158.131343283582, p: 308.356119402985}\n"
     ]
    }
   ],
   "source": [
    "# 8\n",
    "import sympy as s\n",
    "\n",
    "# 但是我不知道为什么方向向上\n",
    "n=s.S('n')\n",
    "p=s.S('p')\n",
    "\n",
    "\n",
    "miu=0.3\n",
    "q1=n-miu*(-miu*n-p+90*9.81)\n",
    "q2=n*3/2+n*miu*3/2-p\n",
    "print(s.solve([q1,q2],[n,p]))"
   ]
  },
  {
   "cell_type": "code",
   "execution_count": 13,
   "metadata": {},
   "outputs": [
    {
     "ename": "KeyboardInterrupt",
     "evalue": "",
     "output_type": "error",
     "traceback": [
      "\u001b[1;31m---------------------------------------------------------------------------\u001b[0m",
      "\u001b[1;31mKeyboardInterrupt\u001b[0m                         Traceback (most recent call last)",
      "Cell \u001b[1;32mIn[13], line 12\u001b[0m\n\u001b[0;32m     10\u001b[0m m\u001b[38;5;241m=\u001b[39mx\u001b[38;5;241m/\u001b[39mpi\u001b[38;5;241m*\u001b[39m\u001b[38;5;241m180\u001b[39m\n\u001b[0;32m     11\u001b[0m q1\u001b[38;5;241m=\u001b[39m\u001b[38;5;241m1\u001b[39m\u001b[38;5;241m-\u001b[39mcos(m)\u001b[38;5;241m-\u001b[39mtan(m)\n\u001b[1;32m---> 12\u001b[0m x\u001b[38;5;241m=\u001b[39m\u001b[43mo\u001b[49m\u001b[43m(\u001b[49m\u001b[43mq1\u001b[49m\u001b[43m,\u001b[49m\u001b[43mx\u001b[49m\u001b[43m)\u001b[49m\n\u001b[0;32m     13\u001b[0m \u001b[38;5;28mprint\u001b[39m(x)\n\u001b[0;32m     14\u001b[0m \u001b[38;5;66;03m# print(float(x))\u001b[39;00m\n",
      "File \u001b[1;32mc:\\Users\\13613\\AppData\\Local\\Programs\\Python\\Python312\\Lib\\site-packages\\sympy\\solvers\\solvers.py:1170\u001b[0m, in \u001b[0;36msolve\u001b[1;34m(f, *symbols, **flags)\u001b[0m\n\u001b[0;32m   1168\u001b[0m         solution \u001b[38;5;241m=\u001b[39m _solve_undetermined(f[\u001b[38;5;241m0\u001b[39m], symbols, flags)\n\u001b[0;32m   1169\u001b[0m     \u001b[38;5;28;01mif\u001b[39;00m \u001b[38;5;129;01mnot\u001b[39;00m solution:\n\u001b[1;32m-> 1170\u001b[0m         solution \u001b[38;5;241m=\u001b[39m \u001b[43m_solve\u001b[49m\u001b[43m(\u001b[49m\u001b[43mf\u001b[49m\u001b[43m[\u001b[49m\u001b[38;5;241;43m0\u001b[39;49m\u001b[43m]\u001b[49m\u001b[43m,\u001b[49m\u001b[43m \u001b[49m\u001b[38;5;241;43m*\u001b[39;49m\u001b[43msymbols\u001b[49m\u001b[43m,\u001b[49m\u001b[43m \u001b[49m\u001b[38;5;241;43m*\u001b[39;49m\u001b[38;5;241;43m*\u001b[39;49m\u001b[43mflags\u001b[49m\u001b[43m)\u001b[49m\n\u001b[0;32m   1171\u001b[0m \u001b[38;5;28;01melse\u001b[39;00m:\n\u001b[0;32m   1172\u001b[0m     linear, solution \u001b[38;5;241m=\u001b[39m _solve_system(f, symbols, \u001b[38;5;241m*\u001b[39m\u001b[38;5;241m*\u001b[39mflags)\n",
      "File \u001b[1;32mc:\\Users\\13613\\AppData\\Local\\Programs\\Python\\Python312\\Lib\\site-packages\\sympy\\solvers\\solvers.py:1571\u001b[0m, in \u001b[0;36m_solve\u001b[1;34m(f, *symbols, **flags)\u001b[0m\n\u001b[0;32m   1567\u001b[0m     \u001b[38;5;28;01mif\u001b[39;00m newf \u001b[38;5;241m!=\u001b[39m f_num:\n\u001b[0;32m   1568\u001b[0m         \u001b[38;5;66;03m# don't check the rewritten form --check\u001b[39;00m\n\u001b[0;32m   1569\u001b[0m         \u001b[38;5;66;03m# solutions in the un-rewritten form below\u001b[39;00m\n\u001b[0;32m   1570\u001b[0m         flags[\u001b[38;5;124m'\u001b[39m\u001b[38;5;124mcheck\u001b[39m\u001b[38;5;124m'\u001b[39m] \u001b[38;5;241m=\u001b[39m \u001b[38;5;28;01mFalse\u001b[39;00m\n\u001b[1;32m-> 1571\u001b[0m         result \u001b[38;5;241m=\u001b[39m \u001b[43m_solve\u001b[49m\u001b[43m(\u001b[49m\u001b[43mnewf\u001b[49m\u001b[43m,\u001b[49m\u001b[43m \u001b[49m\u001b[43msymbol\u001b[49m\u001b[43m,\u001b[49m\u001b[43m \u001b[49m\u001b[38;5;241;43m*\u001b[39;49m\u001b[38;5;241;43m*\u001b[39;49m\u001b[43mflags\u001b[49m\u001b[43m)\u001b[49m\n\u001b[0;32m   1572\u001b[0m         flags[\u001b[38;5;124m'\u001b[39m\u001b[38;5;124mcheck\u001b[39m\u001b[38;5;124m'\u001b[39m] \u001b[38;5;241m=\u001b[39m check\n\u001b[0;32m   1574\u001b[0m \u001b[38;5;66;03m# just a simple case - see if replacement of single function\u001b[39;00m\n\u001b[0;32m   1575\u001b[0m \u001b[38;5;66;03m# clears all symbol-dependent functions, e.g.\u001b[39;00m\n\u001b[0;32m   1576\u001b[0m \u001b[38;5;66;03m# log(x) - log(log(x) - 1) - 3 can be solved even though it has\u001b[39;00m\n\u001b[0;32m   1577\u001b[0m \u001b[38;5;66;03m# two generators.\u001b[39;00m\n",
      "File \u001b[1;32mc:\\Users\\13613\\AppData\\Local\\Programs\\Python\\Python312\\Lib\\site-packages\\sympy\\solvers\\solvers.py:1721\u001b[0m, in \u001b[0;36m_solve\u001b[1;34m(f, *symbols, **flags)\u001b[0m\n\u001b[0;32m   1719\u001b[0m flags\u001b[38;5;241m.\u001b[39mpop(\u001b[38;5;124m'\u001b[39m\u001b[38;5;124mtsolve\u001b[39m\u001b[38;5;124m'\u001b[39m, \u001b[38;5;28;01mNone\u001b[39;00m)  \u001b[38;5;66;03m# allow tsolve to be used on next pass\u001b[39;00m\n\u001b[0;32m   1720\u001b[0m \u001b[38;5;28;01mtry\u001b[39;00m:\n\u001b[1;32m-> 1721\u001b[0m     soln \u001b[38;5;241m=\u001b[39m \u001b[43m_tsolve\u001b[49m\u001b[43m(\u001b[49m\u001b[43mf_num\u001b[49m\u001b[43m,\u001b[49m\u001b[43m \u001b[49m\u001b[43msymbol\u001b[49m\u001b[43m,\u001b[49m\u001b[43m \u001b[49m\u001b[38;5;241;43m*\u001b[39;49m\u001b[38;5;241;43m*\u001b[39;49m\u001b[43mflags\u001b[49m\u001b[43m)\u001b[49m\n\u001b[0;32m   1722\u001b[0m     \u001b[38;5;28;01mif\u001b[39;00m soln \u001b[38;5;129;01mis\u001b[39;00m \u001b[38;5;129;01mnot\u001b[39;00m \u001b[38;5;28;01mNone\u001b[39;00m:\n\u001b[0;32m   1723\u001b[0m         result \u001b[38;5;241m=\u001b[39m [{symbol: v} \u001b[38;5;28;01mfor\u001b[39;00m v \u001b[38;5;129;01min\u001b[39;00m soln]\n",
      "File \u001b[1;32mc:\\Users\\13613\\AppData\\Local\\Programs\\Python\\Python312\\Lib\\site-packages\\sympy\\solvers\\solvers.py:2811\u001b[0m, in \u001b[0;36m_tsolve\u001b[1;34m(eq, sym, **flags)\u001b[0m\n\u001b[0;32m   2809\u001b[0m     rewrite \u001b[38;5;241m=\u001b[39m rebuild(rewrite) \u001b[38;5;66;03m# avoid rewrites involving evaluate=False\u001b[39;00m\n\u001b[0;32m   2810\u001b[0m     \u001b[38;5;28;01mif\u001b[39;00m rewrite \u001b[38;5;241m!=\u001b[39m lhs:\n\u001b[1;32m-> 2811\u001b[0m         \u001b[38;5;28;01mreturn\u001b[39;00m \u001b[43m_vsolve\u001b[49m\u001b[43m(\u001b[49m\u001b[43mrewrite\u001b[49m\u001b[43m \u001b[49m\u001b[38;5;241;43m-\u001b[39;49m\u001b[43m \u001b[49m\u001b[43mrhs\u001b[49m\u001b[43m,\u001b[49m\u001b[43m \u001b[49m\u001b[43msym\u001b[49m\u001b[43m,\u001b[49m\u001b[43m \u001b[49m\u001b[38;5;241;43m*\u001b[39;49m\u001b[38;5;241;43m*\u001b[39;49m\u001b[43mflags\u001b[49m\u001b[43m)\u001b[49m\n\u001b[0;32m   2812\u001b[0m \u001b[38;5;28;01mexcept\u001b[39;00m \u001b[38;5;167;01mNotImplementedError\u001b[39;00m:\n\u001b[0;32m   2813\u001b[0m     \u001b[38;5;28;01mpass\u001b[39;00m\n",
      "File \u001b[1;32mc:\\Users\\13613\\AppData\\Local\\Programs\\Python\\Python312\\Lib\\site-packages\\sympy\\solvers\\solvers.py:2642\u001b[0m, in \u001b[0;36m_vsolve\u001b[1;34m(e, s, **flags)\u001b[0m\n\u001b[0;32m   2640\u001b[0m \u001b[38;5;28;01mdef\u001b[39;00m \u001b[38;5;21m_vsolve\u001b[39m(e, s, \u001b[38;5;241m*\u001b[39m\u001b[38;5;241m*\u001b[39mflags):\n\u001b[0;32m   2641\u001b[0m \u001b[38;5;250m    \u001b[39m\u001b[38;5;124;03m\"\"\"return list of scalar values for the solution of e for symbol s\"\"\"\u001b[39;00m\n\u001b[1;32m-> 2642\u001b[0m     \u001b[38;5;28;01mreturn\u001b[39;00m [i[s] \u001b[38;5;28;01mfor\u001b[39;00m i \u001b[38;5;129;01min\u001b[39;00m \u001b[43m_solve\u001b[49m\u001b[43m(\u001b[49m\u001b[43me\u001b[49m\u001b[43m,\u001b[49m\u001b[43m \u001b[49m\u001b[43ms\u001b[49m\u001b[43m,\u001b[49m\u001b[43m \u001b[49m\u001b[38;5;241;43m*\u001b[39;49m\u001b[38;5;241;43m*\u001b[39;49m\u001b[43mflags\u001b[49m\u001b[43m)\u001b[49m]\n",
      "File \u001b[1;32mc:\\Users\\13613\\AppData\\Local\\Programs\\Python\\Python312\\Lib\\site-packages\\sympy\\solvers\\solvers.py:1501\u001b[0m, in \u001b[0;36m_solve\u001b[1;34m(f, *symbols, **flags)\u001b[0m\n\u001b[0;32m   1499\u001b[0m \u001b[38;5;28;01mtry\u001b[39;00m:\n\u001b[0;32m   1500\u001b[0m     \u001b[38;5;28;01mif\u001b[39;00m poly \u001b[38;5;129;01mis\u001b[39;00m \u001b[38;5;28;01mNone\u001b[39;00m:\n\u001b[1;32m-> 1501\u001b[0m         poly \u001b[38;5;241m=\u001b[39m \u001b[43mPoly\u001b[49m\u001b[43m(\u001b[49m\u001b[43mf_num\u001b[49m\u001b[43m)\u001b[49m\n\u001b[0;32m   1502\u001b[0m     \u001b[38;5;28;01mif\u001b[39;00m poly \u001b[38;5;129;01mis\u001b[39;00m \u001b[38;5;28;01mNone\u001b[39;00m:\n\u001b[0;32m   1503\u001b[0m         \u001b[38;5;28;01mraise\u001b[39;00m \u001b[38;5;167;01mValueError\u001b[39;00m(\u001b[38;5;124m'\u001b[39m\u001b[38;5;124mcould not convert \u001b[39m\u001b[38;5;132;01m%s\u001b[39;00m\u001b[38;5;124m to Poly\u001b[39m\u001b[38;5;124m'\u001b[39m \u001b[38;5;241m%\u001b[39m f_num)\n",
      "File \u001b[1;32mc:\\Users\\13613\\AppData\\Local\\Programs\\Python\\Python312\\Lib\\site-packages\\sympy\\polys\\polytools.py:186\u001b[0m, in \u001b[0;36mPoly.__new__\u001b[1;34m(cls, rep, *gens, **args)\u001b[0m\n\u001b[0;32m    184\u001b[0m     \u001b[38;5;28;01mreturn\u001b[39;00m \u001b[38;5;28mcls\u001b[39m\u001b[38;5;241m.\u001b[39m_from_poly(rep, opt)\n\u001b[0;32m    185\u001b[0m \u001b[38;5;28;01melse\u001b[39;00m:\n\u001b[1;32m--> 186\u001b[0m     \u001b[38;5;28;01mreturn\u001b[39;00m \u001b[38;5;28;43mcls\u001b[39;49m\u001b[38;5;241;43m.\u001b[39;49m\u001b[43m_from_expr\u001b[49m\u001b[43m(\u001b[49m\u001b[43mrep\u001b[49m\u001b[43m,\u001b[49m\u001b[43m \u001b[49m\u001b[43mopt\u001b[49m\u001b[43m)\u001b[49m\n",
      "File \u001b[1;32mc:\\Users\\13613\\AppData\\Local\\Programs\\Python\\Python312\\Lib\\site-packages\\sympy\\polys\\polytools.py:316\u001b[0m, in \u001b[0;36mPoly._from_expr\u001b[1;34m(cls, rep, opt)\u001b[0m\n\u001b[0;32m    314\u001b[0m \u001b[38;5;250m\u001b[39m\u001b[38;5;124;03m\"\"\"Construct a polynomial from an expression. \"\"\"\u001b[39;00m\n\u001b[0;32m    315\u001b[0m rep, opt \u001b[38;5;241m=\u001b[39m _dict_from_expr(rep, opt)\n\u001b[1;32m--> 316\u001b[0m \u001b[38;5;28;01mreturn\u001b[39;00m \u001b[38;5;28;43mcls\u001b[39;49m\u001b[38;5;241;43m.\u001b[39;49m\u001b[43m_from_dict\u001b[49m\u001b[43m(\u001b[49m\u001b[43mrep\u001b[49m\u001b[43m,\u001b[49m\u001b[43m \u001b[49m\u001b[43mopt\u001b[49m\u001b[43m)\u001b[49m\n",
      "File \u001b[1;32mc:\\Users\\13613\\AppData\\Local\\Programs\\Python\\Python312\\Lib\\site-packages\\sympy\\polys\\polytools.py:265\u001b[0m, in \u001b[0;36mPoly._from_dict\u001b[1;34m(cls, rep, opt)\u001b[0m\n\u001b[0;32m    262\u001b[0m     \u001b[38;5;28;01mfor\u001b[39;00m monom, coeff \u001b[38;5;129;01min\u001b[39;00m rep\u001b[38;5;241m.\u001b[39mitems():\n\u001b[0;32m    263\u001b[0m         rep[monom] \u001b[38;5;241m=\u001b[39m domain\u001b[38;5;241m.\u001b[39mconvert(coeff)\n\u001b[1;32m--> 265\u001b[0m \u001b[38;5;28;01mreturn\u001b[39;00m \u001b[38;5;28mcls\u001b[39m\u001b[38;5;241m.\u001b[39mnew(\u001b[43mDMP\u001b[49m\u001b[38;5;241;43m.\u001b[39;49m\u001b[43mfrom_dict\u001b[49m\u001b[43m(\u001b[49m\u001b[43mrep\u001b[49m\u001b[43m,\u001b[49m\u001b[43m \u001b[49m\u001b[43mlevel\u001b[49m\u001b[43m,\u001b[49m\u001b[43m \u001b[49m\u001b[43mdomain\u001b[49m\u001b[43m)\u001b[49m, \u001b[38;5;241m*\u001b[39mgens)\n",
      "File \u001b[1;32mc:\\Users\\13613\\AppData\\Local\\Programs\\Python\\Python312\\Lib\\site-packages\\sympy\\polys\\polyclasses.py:210\u001b[0m, in \u001b[0;36mDMP.from_dict\u001b[1;34m(cls, rep, lev, dom)\u001b[0m\n\u001b[0;32m    208\u001b[0m \u001b[38;5;129m@classmethod\u001b[39m\n\u001b[0;32m    209\u001b[0m \u001b[38;5;28;01mdef\u001b[39;00m \u001b[38;5;21mfrom_dict\u001b[39m(\u001b[38;5;28mcls\u001b[39m, rep, lev, dom):\n\u001b[1;32m--> 210\u001b[0m     rep \u001b[38;5;241m=\u001b[39m \u001b[43mdmp_from_dict\u001b[49m\u001b[43m(\u001b[49m\u001b[43mrep\u001b[49m\u001b[43m,\u001b[49m\u001b[43m \u001b[49m\u001b[43mlev\u001b[49m\u001b[43m,\u001b[49m\u001b[43m \u001b[49m\u001b[43mdom\u001b[49m\u001b[43m)\u001b[49m\n\u001b[0;32m    211\u001b[0m     \u001b[38;5;28;01mreturn\u001b[39;00m \u001b[38;5;28mcls\u001b[39m\u001b[38;5;241m.\u001b[39mnew(rep, dom, lev)\n",
      "File \u001b[1;32mc:\\Users\\13613\\AppData\\Local\\Programs\\Python\\Python312\\Lib\\site-packages\\sympy\\polys\\densebasic.py:1017\u001b[0m, in \u001b[0;36mdmp_from_dict\u001b[1;34m(f, u, K)\u001b[0m\n\u001b[0;32m   1015\u001b[0m         h\u001b[38;5;241m.\u001b[39mappend(dmp_from_dict(coeff, v, K))\n\u001b[0;32m   1016\u001b[0m     \u001b[38;5;28;01melse\u001b[39;00m:\n\u001b[1;32m-> 1017\u001b[0m         h\u001b[38;5;241m.\u001b[39mappend(\u001b[43mdmp_zero\u001b[49m\u001b[43m(\u001b[49m\u001b[43mv\u001b[49m\u001b[43m)\u001b[49m)\n\u001b[0;32m   1019\u001b[0m \u001b[38;5;28;01mreturn\u001b[39;00m dmp_strip(h, u)\n",
      "File \u001b[1;32mc:\\Users\\13613\\AppData\\Local\\Programs\\Python\\Python312\\Lib\\site-packages\\sympy\\polys\\densebasic.py:739\u001b[0m, in \u001b[0;36mdmp_zero\u001b[1;34m(u)\u001b[0m\n\u001b[0;32m    736\u001b[0m r \u001b[38;5;241m=\u001b[39m []\n\u001b[0;32m    738\u001b[0m \u001b[38;5;28;01mfor\u001b[39;00m i \u001b[38;5;129;01min\u001b[39;00m \u001b[38;5;28mrange\u001b[39m(u):\n\u001b[1;32m--> 739\u001b[0m     r \u001b[38;5;241m=\u001b[39m [r]\n\u001b[0;32m    741\u001b[0m \u001b[38;5;28;01mreturn\u001b[39;00m r\n",
      "\u001b[1;31mKeyboardInterrupt\u001b[0m: "
     ]
    }
   ],
   "source": [
    "from math import sqrt,cos,sin,tan,acos,asin,atan,pi\n",
    "from sympy import integrate as i\n",
    "from sympy import S,sqrt,cos,sin,tan\n",
    "from sympy import solve as o\n",
    "x=S('x')\n",
    "y=S('y')\n",
    "z=S('z')\n",
    "\n",
    "\n",
    "m=x/pi*180\n",
    "q1=1-cos(m)-tan(m)\n",
    "x=o(q1,x)\n",
    "print(x)\n",
    "# print(float(x))\n"
   ]
  },
  {
   "cell_type": "code",
   "execution_count": null,
   "metadata": {},
   "outputs": [],
   "source": [
    "q1=sin()-sin(x)-cos(x)**2\n"
   ]
  }
 ],
 "metadata": {
  "kernelspec": {
   "display_name": "Python 3",
   "language": "python",
   "name": "python3"
  },
  "language_info": {
   "codemirror_mode": {
    "name": "ipython",
    "version": 3
   },
   "file_extension": ".py",
   "mimetype": "text/x-python",
   "name": "python",
   "nbconvert_exporter": "python",
   "pygments_lexer": "ipython3",
   "version": "3.12.6"
  }
 },
 "nbformat": 4,
 "nbformat_minor": 2
}

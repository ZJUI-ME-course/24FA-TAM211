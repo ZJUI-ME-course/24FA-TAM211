{
 "cells": [
  {
   "cell_type": "code",
   "execution_count": null,
   "metadata": {},
   "outputs": [],
   "source": [
    "# 5\n",
    "import numpy as np\n",
    "\n",
    "from math import sqrt,cos,sin,tan,acos,asin,atan,pi\n",
    "from sympy import integrate as i\n",
    "from sympy import S,sqrt,cos,sin\n",
    "from sympy import solve as o\n",
    "x=S('x')\n",
    "y=S('y')\n",
    "z=S('z')\n",
    "tt1=37/180*pi\n",
    "tt2=46/180*pi\n",
    "\n",
    "f1=np.array([-x*sin(tt1),x*cos(tt1),0])\n",
    "f2=np.array([0,-y*cos(tt2),y*sin(tt2)])\n",
    "f3=np.array([0,z,0])\n",
    "f4=np.array([0,0,-200])\n",
    "print((f1+f2+f3+f4)[0])\n",
    "print((f1+f2+f3+f4)[0])\n",
    "print((f1+f2+f3+f4)[0])\n",
    "q1=(f1+f2+f3+f4)[0]\n",
    "q2=(f1+f2+f3+f4)[1]\n",
    "q3=(f1+f2+f3+f4)[2]\n",
    "\n",
    "print(o([q1,q2,q3],[x,y,z]))"
   ]
  },
  {
   "cell_type": "code",
   "execution_count": null,
   "metadata": {},
   "outputs": [],
   "source": [
    "# 7\n",
    "import numpy as np\n",
    "\n",
    "from math import sqrt,cos,sin,tan,acos,asin,atan,pi\n",
    "from sympy import integrate as i\n",
    "from sympy import S,sqrt,cos,sin\n",
    "from sympy import solve as o\n",
    "x=S('x')\n",
    "y=S('y')\n",
    "z=S('z')\n",
    "\n",
    "a=5\n",
    "b=3\n",
    "c=9\n",
    "d=9\n",
    "e=9\n",
    "f=7\n",
    "\n",
    "\n",
    "f1 = np.array([a, b, c])\n",
    "p = np.array([d, e, -f])\n",
    "\n",
    "t=np.dot(f1,p)/np.dot(p,p)\n",
    "\n",
    "p2=t*p\n",
    "print(p2)\n",
    "\n",
    "\n",
    "print(np.linalg.norm(p2))"
   ]
  }
 ],
 "metadata": {
  "kernelspec": {
   "display_name": "Python 3",
   "language": "python",
   "name": "python3"
  },
  "language_info": {
   "name": "python",
   "version": "3.12.6"
  }
 },
 "nbformat": 4,
 "nbformat_minor": 2
}

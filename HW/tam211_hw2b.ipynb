{
 "cells": [
  {
   "cell_type": "code",
   "execution_count": 1,
   "metadata": {},
   "outputs": [
    {
     "name": "stdout",
     "output_type": "stream",
     "text": [
      "(0, 0.8660254037844386, 0.5) [-393.86074537 -105.53466865  787.72149074]\n",
      "734.9541564117493\n",
      "-196.9303726844253\n",
      "341.09341104289877\n"
     ]
    }
   ],
   "source": [
    "# 7\n",
    "\n",
    "import numpy as np\n",
    "\n",
    "from math import sqrt,cos,sin,tan,acos,asin,atan,pi\n",
    "from sympy import integrate as i\n",
    "from sympy import S,sqrt,cos,sin\n",
    "from sympy import solve as o\n",
    "x=S('x')\n",
    "y=S('y')\n",
    "z=S('z')\n",
    "\n",
    "F=887\n",
    "from math import sqrt\n",
    "_f=np.array([-1/4,(sqrt(3)-2)/4,1/2])\n",
    "f=F*_f/np.linalg.norm(_f)\n",
    "r=(0,sqrt(3)/2,1/2)\n",
    "print(r,f)\n",
    "print(np.cross(r,f)[0])\n",
    "print(np.cross(r,f)[1])\n",
    "print(np.cross(r,f)[2])\n",
    "\n"
   ]
  },
  {
   "cell_type": "code",
   "execution_count": 4,
   "metadata": {},
   "outputs": [
    {
     "name": "stdout",
     "output_type": "stream",
     "text": [
      "1194.66666666667\n",
      "9.60000000000000\n"
     ]
    }
   ],
   "source": [
    "# 8\n",
    "tao=7\n",
    "h=16\n",
    "\n",
    "\n",
    "\n",
    "f=i(tao*4*z**(1/2),(z,0,h))\n",
    "print(f)\n",
    "\n",
    "m=i(tao*4*z*z**(1/2),(z,0,h))\n",
    "print(m/f)"
   ]
  },
  {
   "cell_type": "code",
   "execution_count": null,
   "metadata": {},
   "outputs": [],
   "source": [
    "# 9\n",
    "# 关于x轴转就是右手握住关于x转，所以其实是看向下的和y的长度\n",
    "# 正负 就是转顺时针负 "
   ]
  }
 ],
 "metadata": {
  "kernelspec": {
   "display_name": "Python 3",
   "language": "python",
   "name": "python3"
  },
  "language_info": {
   "codemirror_mode": {
    "name": "ipython",
    "version": 3
   },
   "file_extension": ".py",
   "mimetype": "text/x-python",
   "name": "python",
   "nbconvert_exporter": "python",
   "pygments_lexer": "ipython3",
   "version": "3.12.6"
  }
 },
 "nbformat": 4,
 "nbformat_minor": 2
}

{
 "cells": [
  {
   "cell_type": "code",
   "execution_count": 3,
   "metadata": {},
   "outputs": [
    {
     "name": "stdout",
     "output_type": "stream",
     "text": [
      "209 104.5\n"
     ]
    }
   ],
   "source": [
    "# 1\n",
    "G=172\n",
    "W=37\n",
    "total=G+W\n",
    "print(total,total/2)"
   ]
  },
  {
   "cell_type": "code",
   "execution_count": 43,
   "metadata": {},
   "outputs": [
    {
     "name": "stdout",
     "output_type": "stream",
     "text": [
      "387.267910613910\n",
      "-345.058234965793 175.815952272700\n"
     ]
    },
    {
     "name": "stderr",
     "output_type": "stream",
     "text": [
      "C:\\Users\\13613\\AppData\\Local\\Temp\\ipykernel_44872\\3527958053.py:22: DeprecationWarning: Arrays of 2-dimensional vectors are deprecated. Use arrays of 3-dimensional vectors instead. (deprecated in NumPy 2.0)\n",
      "  q1=np.cross(r1,fbc)-0.75*1.5*K\n"
     ]
    }
   ],
   "source": [
    "# 2\n",
    "# 1) ca a点 fc\n",
    "# 2）ac 力 fa\n",
    "K=510\n",
    "alpha=54\n",
    "\n",
    "\n",
    "import numpy as np\n",
    "from math import sin,cos,acos,asin,radians,degrees,pi,sqrt\n",
    "import sympy as s\n",
    "\n",
    "\n",
    "\n",
    "# fbe\n",
    "\n",
    "x=s.S('x')\n",
    "r1=np.array([1.5*cos(radians(alpha)),1.5*sin(radians(alpha))])\n",
    "fbc=np.array([-sqrt(2)/2*x,sqrt(2)/2*x])\n",
    "\n",
    "\n",
    "\n",
    "q1=np.cross(r1,fbc)-0.75*1.5*K\n",
    "fbc=s.solve([q1],[x])[x]\n",
    "# print(fbe)\n",
    "print(fbc)\n",
    "\n",
    "fax=fbc*sqrt(2)/2-1.5*K*sin(radians(alpha))\n",
    "fay=1.5*K*cos(radians(alpha))-fbc*sqrt(2)/2\n",
    "\n",
    "\n",
    "print(fax,fay)"
   ]
  },
  {
   "cell_type": "code",
   "execution_count": 44,
   "metadata": {},
   "outputs": [
    {
     "name": "stdout",
     "output_type": "stream",
     "text": [
      "57.039418043384444\n"
     ]
    }
   ],
   "source": [
    "# 3\n",
    "Fa=97\n",
    "r1=12\n",
    "r2=7\n",
    "r=r1+r2\n",
    "a=10\n",
    "\n",
    "\n",
    "Fn=Fa/2/sqrt((r)**2-a**2)*r\n",
    "print(Fn)"
   ]
  },
  {
   "cell_type": "code",
   "execution_count": 56,
   "metadata": {},
   "outputs": [
    {
     "name": "stdout",
     "output_type": "stream",
     "text": [
      "0\n",
      "9*x + 18*y - 475.5 9*x + 18*y - 475.5\n",
      "{x: 52.8333333333333 - 2.0*y}\n",
      "9*x - 18*y - 475.5\n"
     ]
    }
   ],
   "source": [
    "# # 4\n",
    "# l1=3\n",
    "# L2=6\n",
    "# L3=3\n",
    "# L4=6\n",
    "# L5=3\n",
    "# F=11\n",
    "# k=3\n",
    "# F2=k*(L2+L3)\n",
    "\n",
    "# print(0)\n",
    "\n",
    "# import numpy as np\n",
    "# from math import sin,cos,acos,asin,radians,degrees,pi,sqrt\n",
    "# import sympy as s\n",
    "\n",
    "# x=s.S('x')\n",
    "# y=s.S('y')\n",
    "\n",
    "# Fay=F2+F-x-y\n",
    "\n",
    "# # c\n",
    "# q1=F2*(L2-L3)/2-(L1+L2)*Fay-F*(L3+L4+L5)+(L3+L4)*y\n",
    "# q2=F2*(L2+L3)/2+y*(L4)-F*(L4+L5)-Fay*(L1+L2+L3)-x*L3\n",
    "# print(q1,q2)\n",
    "# print(s.solve([q1,q2],[x,y]))\n",
    "\n",
    "# ma=-F2*(L1+L2/2+L3/2)+(L1+L2)*x-(L1+L2+L3+L4)*y-F*(L1+L2+L3+L4+L5)\n",
    "# print(ma)\n",
    "\n",
    "\n",
    "# Fd = F*l5/l4\n",
    "# x =sym.S(\"x\")\n",
    "# eq = k*x\n",
    "# Fb = (-Fd*l3+sym.integrate(eq,(x,0,l3))-sym.integrate(eq,(x,0,l2)))/l2\n",
    "# print(\"Fb\",Fb,\"Fd\",Fd)\n",
    "# Ma = Fb*l1\n",
    "# Fc = (sym.integrate(eq,(x,0,l2+l3))-Fd*(l2+l3))/l2\n",
    "# Fe = F*(l4+l5)/l4\n",
    "# print(0,-Fb,-Ma,Fc,Fe)\n",
    "\n",
    "# 以上是我sb了\n",
    "\n"
   ]
  },
  {
   "cell_type": "code",
   "execution_count": null,
   "metadata": {},
   "outputs": [
    {
     "name": "stdout",
     "output_type": "stream",
     "text": [
      "Fb -7.25000000000000 Fd 5.5\n",
      "0 7.25000000000000 21.7500000000000 5.25000000000000 16.5\n"
     ]
    }
   ],
   "source": [
    "# # 4:\n",
    "\n",
    "# import numpy as np\n",
    "# import sympy as sym\n",
    "\n",
    "# l1 = 3\n",
    "# l2 = 4\n",
    "# l3 = 2\n",
    "# l4 = 5\n",
    "# l5 = 2.5\n",
    "# F = 11\n",
    "# k = 3\n",
    "\n",
    "# Fd = F*l5/l4\n",
    "# x =sym.S(\"x\")\n",
    "# eq = k*x\n",
    "# Fb = (-Fd*l3+sym.integrate(eq,(x,0,l3))-sym.integrate(eq,(x,0,l2)))/l2\n",
    "# print(\"Fb\",Fb,\"Fd\",Fd)\n",
    "# Ma = Fb*l1\n",
    "# Fc = (sym.integrate(eq,(x,0,l2+l3))-Fd*(l2+l3))/l2\n",
    "# Fe = F*(l4+l5)/l4\n",
    "# print(0,-Fb,-Ma,Fc,Fe)"
   ]
  },
  {
   "cell_type": "code",
   "execution_count": null,
   "metadata": {},
   "outputs": [
    {
     "name": "stdout",
     "output_type": "stream",
     "text": [
      "8.25\n",
      "9.25\n",
      "37.0\n"
     ]
    }
   ],
   "source": [
    "# 4\n",
    "l1=4\n",
    "l2=4\n",
    "l3=2\n",
    "l4=6\n",
    "l5=3\n",
    "f=13\n",
    "k=4\n",
    "\n",
    "fd=f*l5/l4\n",
    "f1=k*(l2+l3)\n",
    "\n",
    "fc=(-fd*(l2+l3)+f1*(l2+l3)/2)/l2\n",
    "\n",
    "print(fc)\n",
    "\n",
    "fb=-fc-fd+f1\n",
    "print(fb)\n",
    "print(fb*l1)\n"
   ]
  },
  {
   "cell_type": "code",
   "execution_count": null,
   "metadata": {},
   "outputs": [
    {
     "name": "stdout",
     "output_type": "stream",
     "text": [
      "27/2\n"
     ]
    }
   ],
   "source": [
    "# import sympy as sym\n",
    "# x =sym.S(\"x\")\n",
    "# k = 3\n",
    "# eq = k*x\n",
    "\n",
    "# # Fb = (-Fd*l3+sym.integrate(eq,(x,0,l3))-sym.integrate(eq,(x,0,l2)))/l2\n",
    "# print(sym.integrate(eq,(x,0,3)))"
   ]
  },
  {
   "cell_type": "code",
   "execution_count": null,
   "metadata": {},
   "outputs": [
    {
     "name": "stdout",
     "output_type": "stream",
     "text": [
      "-304.651878967310\n"
     ]
    },
    {
     "name": "stderr",
     "output_type": "stream",
     "text": [
      "C:\\Users\\13613\\AppData\\Local\\Temp\\ipykernel_44872\\163043905.py:28: DeprecationWarning: Arrays of 2-dimensional vectors are deprecated. Use arrays of 3-dimensional vectors instead. (deprecated in NumPy 2.0)\n",
      "  q1=np.cross(r2,F1)+np.cross(r1,fbe)\n"
     ]
    }
   ],
   "source": [
    "# # 5\n",
    "# # 思路 \n",
    "# # 1）右上角 c点 得到fbe\n",
    "# # 2）右上角 力 得到c右 -->显然得到 左边 力 得到d右\n",
    "# # 3）左边 c点 得到Na\n",
    "\n",
    "# import sympy as s\n",
    "# # x=s.S('x')\n",
    "# # y=s.S('y')\n",
    "# # # q1=\n",
    "# # print(s.solve([q1],[x]))\n",
    "\n",
    "\n",
    "# L1=275\n",
    "# L2=69\n",
    "# L3=30\n",
    "# L4=236\n",
    "# alpha=31\n",
    "# from math import sin,cos,acos,asin,radians,degrees,pi\n",
    "# F=350\n",
    "# import numpy as np\n",
    "# # fbe\n",
    "# r1=np.array([L2,-L3])\n",
    "# x=s.S('x')\n",
    "# fbe=np.array([-x*sin(radians(alpha)),x*cos(radians(alpha))])\n",
    "# F1=np.array([F*sin(radians(alpha)),-F*cos(radians(alpha))])\n",
    "# r2=np.array([L1*cos(radians(alpha))+L2,L1*sin(radians(alpha))])\n",
    "# q1=np.cross(r2,F1)+np.cross(r1,fbe)\n",
    "# fbe=s.solve([q1],[x])[x]\n",
    "# # print(fbe)\n",
    "\n",
    "\n",
    "# # fcx,fdx\n",
    "# fcx=-fbe*sin(radians(alpha))+F*sin(radians(alpha))\n",
    "# # print(fcx)\n",
    "\n",
    "# # Na\n",
    "# Na=fcx*2*L3/L4\n",
    "# print(Na)"
   ]
  },
  {
   "cell_type": "code",
   "execution_count": null,
   "metadata": {},
   "outputs": [
    {
     "name": "stdout",
     "output_type": "stream",
     "text": [
      "2466.646666357581\n",
      "1026.6554761327407\n",
      "-262.12480241686995\n"
     ]
    }
   ],
   "source": [
    "# 5点就是平衡的\n",
    "l1=274\n",
    "l2=71\n",
    "l3=30\n",
    "l4=235\n",
    "alpha=29\n",
    "f=349\n",
    "from numpy import radians,cos,sin\n",
    "import numpy as np\n",
    "\n",
    "f1=((f*cos(radians(alpha))*(l1*cos(radians(alpha))+l2))+f*sin(radians(alpha))*l1*sin(radians(alpha)))/(l2*cos(radians(alpha))-l3*sin(radians(alpha)))\n",
    "print(f1)\n",
    "\n",
    "fx=-f*sin(radians(alpha))+f1*sin(radians(alpha))\n",
    "print(fx)\n",
    "\n",
    "na=-2*l3*fx/l4\n",
    "print(na)\n",
    "\n",
    "\n"
   ]
  },
  {
   "cell_type": "code",
   "execution_count": 32,
   "metadata": {},
   "outputs": [
    {
     "name": "stdout",
     "output_type": "stream",
     "text": [
      "x: 0.3333333333333333\n",
      "P: 2.6666666666666665\n"
     ]
    }
   ],
   "source": [
    "# 6\n",
    "print(\"x:\",1/3)\n",
    "W=8\n",
    "print(\"P:\",W/3)\n",
    "# 注意上面的半径有长度\n"
   ]
  },
  {
   "cell_type": "code",
   "execution_count": 37,
   "metadata": {},
   "outputs": [
    {
     "name": "stdout",
     "output_type": "stream",
     "text": [
      "Fab 5565.64975004902 Fac 6039.083815723487 Fad -1115.9775826495045\n"
     ]
    }
   ],
   "source": [
    "# 7\n",
    "# 1）上面 d点 Fab\n",
    "# 2）因为合力沿着杆子，三角形\n",
    "G=1046\n",
    "L1=7\n",
    "L2=5\n",
    "Faby=G*L2\n",
    "Fab=Faby/sin(radians(70))\n",
    "\n",
    "Fad=Fab/sin(radians(60))*sin(radians(10))\n",
    "Fac=Fab/sin(radians(60))*sin(radians(110))\n",
    "print(\"Fab\",Fab,\"Fac\",Fac,\"Fad\",-Fad)\n",
    "\n",
    "\n",
    "# 这里的正负号我一直不会\n"
   ]
  },
  {
   "cell_type": "code",
   "execution_count": null,
   "metadata": {},
   "outputs": [
    {
     "name": "stdout",
     "output_type": "stream",
     "text": [
      "1275.30000000000 956.475 -539.550000000000 -220.72500000000002\n"
     ]
    }
   ],
   "source": [
    "# 8\n",
    "# 1）中间杆子加球 c点 Fb\n",
    "# 2) 中间杆子加球 力 Fc\n",
    "m=75\n",
    "G=m*9.81\n",
    "r=0.3\n",
    "l=0.6\n",
    "# from sympy import sqrt\n",
    "fby=G*(l+2)/2\n",
    "\n",
    "fb=fby/1.5*sqrt(1.5**2+2**2)\n",
    "fbx=fb*2/sqrt(1.5**2+2**2)\n",
    "\n",
    "fcx=G-fbx\n",
    "fcy=G-fby\n",
    "print(fbx,fby,fcx,fcy)\n",
    "\n"
   ]
  },
  {
   "cell_type": "code",
   "execution_count": null,
   "metadata": {},
   "outputs": [
    {
     "name": "stdout",
     "output_type": "stream",
     "text": [
      "993.2625000000002 1324.3500000000001 -588.6000000000001 -257.51250000000016\n"
     ]
    }
   ],
   "source": [
    "# 8\n",
    "l=0.7\n",
    "r=0.4\n",
    "m=75\n",
    "g=9.81\n",
    "fb=m*g*(2+l)/6*5\n",
    "fby=fb*3/5\n",
    "fbx=fb*4/5\n",
    "\n",
    "fcx=m*g-fbx\n",
    "fcy=m*g-fby\n",
    "print(fby,fbx,fcx,fcy)"
   ]
  }
 ],
 "metadata": {
  "kernelspec": {
   "display_name": "Python 3",
   "language": "python",
   "name": "python3"
  },
  "language_info": {
   "codemirror_mode": {
    "name": "ipython",
    "version": 3
   },
   "file_extension": ".py",
   "mimetype": "text/x-python",
   "name": "python",
   "nbconvert_exporter": "python",
   "pygments_lexer": "ipython3",
   "version": "3.12.6"
  }
 },
 "nbformat": 4,
 "nbformat_minor": 2
}
